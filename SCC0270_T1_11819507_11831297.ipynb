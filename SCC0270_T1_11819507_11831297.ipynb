{
  "cells": [
    {
      "cell_type": "markdown",
      "metadata": {
        "id": "4b0afbf6"
      },
      "source": [
        "# Redes Neurais e Aprendizado Profundo\n",
        "SCC0270 - 2/2022\n",
        "\n",
        "\n",
        "## Trabalho 1 - Redes Densas e Convolucionais\n",
        "\n",
        "NOME: Bruno Paiva Sant'Anna\n",
        "\n",
        "NUSP: 11819507\n",
        "\n",
        "NOME: Ricardo Yudi Takahashi\n",
        "\n",
        "NUSP: 11831297"
      ],
      "id": "4b0afbf6"
    },
    {
      "cell_type": "markdown",
      "metadata": {
        "id": "69d57ec5"
      },
      "source": [
        "Neste trabalho você deverá implementar duas redes neurais usando Pytorch, uma utilizando camadas densas e outra utilizando camadas convolucionais. Será utilizado o dataset Fashion MNIST."
      ],
      "id": "69d57ec5"
    },
    {
      "cell_type": "markdown",
      "metadata": {
        "id": "302e4495"
      },
      "source": [
        "### Instruções:\n",
        "\n",
        "- Preencha o nome e o número USP da dupla na célula acima;\n",
        "- Renomeie o notebook, inserindo o número USP de cada um da dupla, conforme o exemplo: \"SCC0270-T1-1234567-7654321\";\n",
        "- Neste notebook, você irá encontrar 5 exercícios, cada um deles valendo uma certa quantidade de pontos. A conclusão de todos os exercícios com sucesso valerá nota 10;\n",
        "- Responda cada exercício inserindo o código adequado para cada função.\n",
        "- Envie o notebook inteiro como entrega do exercício.\n",
        "- Certifique-se de que os códigos executam corretamente, uma vez que a nota só será atribuída caso seja possível executar o código, e ele esteja correto.\n",
        "- Fraudes ou plágio implica em nota zero e possíveis medidas administrativas.\n"
      ],
      "id": "302e4495"
    },
    {
      "cell_type": "markdown",
      "metadata": {
        "id": "f2eb4c72"
      },
      "source": [
        "### Objetivos:\n",
        "\n",
        "- Compreender como o aprendizado de máquina consegue resolver problemas que métodos tradicionais de programação não conseguem\n",
        "- Aprender sobre o dataset público Fashion MNIST\n",
        "- Observar as diferenças do uso de camadas densas e convolucionais"
      ],
      "id": "f2eb4c72"
    },
    {
      "cell_type": "markdown",
      "metadata": {
        "id": "cadc8bd2"
      },
      "source": [
        "### Imports"
      ],
      "id": "cadc8bd2"
    },
    {
      "cell_type": "code",
      "execution_count": null,
      "metadata": {
        "id": "d6a6358b"
      },
      "outputs": [],
      "source": [
        "from torchvision import datasets, transforms, utils\n",
        "\n",
        "import torch\n",
        "import torch.nn as nn\n",
        "import torch.optim as optim\n",
        "import torch.nn.functional as F\n",
        "from torch.autograd import Variable\n",
        "\n",
        "import matplotlib.pyplot as plt\n",
        "import numpy as np"
      ],
      "id": "d6a6358b"
    },
    {
      "cell_type": "code",
      "execution_count": null,
      "metadata": {
        "colab": {
          "base_uri": "https://localhost:8080/"
        },
        "id": "7538835c",
        "outputId": "45cabcc8-4744-4b7a-8876-4e4949da44f3"
      },
      "outputs": [
        {
          "data": {
            "text/plain": [
              "device(type='cpu')"
            ]
          },
          "execution_count": 2,
          "metadata": {},
          "output_type": "execute_result"
        }
      ],
      "source": [
        "# Selecionar GPU caso disponível\n",
        "device = torch.device(\"cuda:0\" if torch.cuda.is_available() else \"cpu\")\n",
        "device"
      ],
      "id": "7538835c"
    },
    {
      "cell_type": "markdown",
      "metadata": {
        "id": "27fc071e"
      },
      "source": [
        "### Dataset Fashion-MNIST"
      ],
      "id": "27fc071e"
    },
    {
      "cell_type": "markdown",
      "metadata": {
        "id": "6ee649f9"
      },
      "source": [
        "### Dados, Anotações e Subsets\n",
        "\n",
        "- `train_set`: Imagens usadas para treinar a rede neural. Contém anotações corretas para cada imagem de `train_set`, usado para avaliar as predições do modelo durante a fase de treinamento.\n",
        "- `test_set`: Imagens usadas para avaliar o desempenho do modelo, uma vez que ele já foi treinado. Contém anotações corretas para cada imagem de `test_set`, usado para avaliar as predições do modelo durante a fase de validação\n"
      ],
      "id": "6ee649f9"
    },
    {
      "cell_type": "markdown",
      "metadata": {
        "id": "a2827e94"
      },
      "source": [
        "### Importar dados para a memória"
      ],
      "id": "a2827e94"
    },
    {
      "cell_type": "code",
      "execution_count": null,
      "metadata": {
        "colab": {
          "base_uri": "https://localhost:8080/",
          "height": 443,
          "referenced_widgets": [
            "975d52dbdf8a4bb79188b9b79ccd25dc",
            "a0e325fc353b499b9379c590496215c5",
            "547838b0eeb24493b74f375648d1db35",
            "95f84694c4b3483b849a05af67b6c1c8",
            "958c799482554d578ac3a0a233b6ae3d",
            "137c90049a344791bdbac9164ca9fd51",
            "cc1a6b0b218c4f03984d30daa44ba58a",
            "95bedabb2b1f40b79a4fe7a0c0ef687e",
            "d7eb8a2a9ea14e5fb457a38fa7b2f4e6",
            "00add4d7613e4a28a772c11677b0352d",
            "a35d560957a449c6b2f8d24e5d2f9e82",
            "9c4cd0f5b5684839a0bcedbf7a404189",
            "aedae65fa05e4d979fe7d4bf4638a5b7",
            "b663049ae75444ebb2e059d3a83045df",
            "b6e0443e87ee4df0b9fa091722dea994",
            "38a2267f50904c038d017881ae88aaeb",
            "150833ad2ce941538bfbb6bd155470c3",
            "283384271c4e4c2b90f3af63b311609c",
            "7f5927c40301483daf05dd6320713bfd",
            "3eb39b40133f46ddb27d4add0786fba4",
            "bafb63bab4874e3998bdf8d1172fc55b",
            "d8b6a5a53e884ea49e8407995b83c842",
            "6e62c7c08b0c4424a3d60b751f2cc64a",
            "b305288afc9046acad742ec0a9c9228c",
            "0b0b74514a1c43c0b691d7338bf0badb",
            "27a535e59484462b82d0bb7052bbe84a",
            "b171bdb9bc3245f3837a20d368bd1b0d",
            "ef6eac6a1f7042fe8f633dc55cb7c353",
            "fac346b0e4d34412bad4413630d5292e",
            "c759c6610db14bb5a87b8d249d1b3771",
            "89a9bdbc75344806978c4587fec2b9ab",
            "81bc23d1eeda472581c596bdd25b76e8",
            "c89592d6988a4db4a7d1d7c4d5d9f82b",
            "d3a077ecc12040559981d12af59690e7",
            "e60471c08c174d289b5ce16c2794a7e1",
            "2f8540126f6447fab3f2c5481e75c1fe",
            "586b803414bf444cb2263d395b179ba7",
            "1b04b4a77d19447eb878d053fe6400dd",
            "869c19cebd78434d8485554db3b2357f",
            "19b1e1a1df1d4b6f9e37114aeb63ed4b",
            "f9813d2a746f433cbbd6b91eae0c09f0",
            "b941779c9dc24d0f89a74fe6d056d367",
            "403d93da9ee047ccb7ffecaf3c8df1d4",
            "68241f3cf76d4e9e8f90f046d780d722"
          ]
        },
        "id": "a567d63e",
        "outputId": "72c0754d-6222-4108-ac19-9c1b0ea904be"
      },
      "outputs": [
        {
          "name": "stdout",
          "output_type": "stream",
          "text": [
            "Downloading http://fashion-mnist.s3-website.eu-central-1.amazonaws.com/train-images-idx3-ubyte.gz\n",
            "Downloading http://fashion-mnist.s3-website.eu-central-1.amazonaws.com/train-images-idx3-ubyte.gz to ./data/FashionMNIST/raw/train-images-idx3-ubyte.gz\n"
          ]
        },
        {
          "data": {
            "application/vnd.jupyter.widget-view+json": {
              "model_id": "975d52dbdf8a4bb79188b9b79ccd25dc",
              "version_major": 2,
              "version_minor": 0
            },
            "text/plain": [
              "  0%|          | 0/26421880 [00:00<?, ?it/s]"
            ]
          },
          "metadata": {},
          "output_type": "display_data"
        },
        {
          "name": "stdout",
          "output_type": "stream",
          "text": [
            "Extracting ./data/FashionMNIST/raw/train-images-idx3-ubyte.gz to ./data/FashionMNIST/raw\n",
            "\n",
            "Downloading http://fashion-mnist.s3-website.eu-central-1.amazonaws.com/train-labels-idx1-ubyte.gz\n",
            "Downloading http://fashion-mnist.s3-website.eu-central-1.amazonaws.com/train-labels-idx1-ubyte.gz to ./data/FashionMNIST/raw/train-labels-idx1-ubyte.gz\n"
          ]
        },
        {
          "data": {
            "application/vnd.jupyter.widget-view+json": {
              "model_id": "9c4cd0f5b5684839a0bcedbf7a404189",
              "version_major": 2,
              "version_minor": 0
            },
            "text/plain": [
              "  0%|          | 0/29515 [00:00<?, ?it/s]"
            ]
          },
          "metadata": {},
          "output_type": "display_data"
        },
        {
          "name": "stdout",
          "output_type": "stream",
          "text": [
            "Extracting ./data/FashionMNIST/raw/train-labels-idx1-ubyte.gz to ./data/FashionMNIST/raw\n",
            "\n",
            "Downloading http://fashion-mnist.s3-website.eu-central-1.amazonaws.com/t10k-images-idx3-ubyte.gz\n",
            "Downloading http://fashion-mnist.s3-website.eu-central-1.amazonaws.com/t10k-images-idx3-ubyte.gz to ./data/FashionMNIST/raw/t10k-images-idx3-ubyte.gz\n"
          ]
        },
        {
          "data": {
            "application/vnd.jupyter.widget-view+json": {
              "model_id": "6e62c7c08b0c4424a3d60b751f2cc64a",
              "version_major": 2,
              "version_minor": 0
            },
            "text/plain": [
              "  0%|          | 0/4422102 [00:00<?, ?it/s]"
            ]
          },
          "metadata": {},
          "output_type": "display_data"
        },
        {
          "name": "stdout",
          "output_type": "stream",
          "text": [
            "Extracting ./data/FashionMNIST/raw/t10k-images-idx3-ubyte.gz to ./data/FashionMNIST/raw\n",
            "\n",
            "Downloading http://fashion-mnist.s3-website.eu-central-1.amazonaws.com/t10k-labels-idx1-ubyte.gz\n",
            "Downloading http://fashion-mnist.s3-website.eu-central-1.amazonaws.com/t10k-labels-idx1-ubyte.gz to ./data/FashionMNIST/raw/t10k-labels-idx1-ubyte.gz\n"
          ]
        },
        {
          "data": {
            "application/vnd.jupyter.widget-view+json": {
              "model_id": "d3a077ecc12040559981d12af59690e7",
              "version_major": 2,
              "version_minor": 0
            },
            "text/plain": [
              "  0%|          | 0/5148 [00:00<?, ?it/s]"
            ]
          },
          "metadata": {},
          "output_type": "display_data"
        },
        {
          "name": "stdout",
          "output_type": "stream",
          "text": [
            "Extracting ./data/FashionMNIST/raw/t10k-labels-idx1-ubyte.gz to ./data/FashionMNIST/raw\n",
            "\n"
          ]
        }
      ],
      "source": [
        "# Fazer o download dos dados\n",
        "\n",
        "train_set = datasets.FashionMNIST(\n",
        "    \"./data\", \n",
        "    download=True, \n",
        "    transform=transforms.Compose([transforms.ToTensor()])\n",
        ")\n",
        "train_loader = torch.utils.data.DataLoader(train_set, batch_size=100)\n",
        "\n",
        "test_set = datasets.FashionMNIST(\n",
        "    \"./data\", \n",
        "    download=True, \n",
        "    train=False, \n",
        "    transform=transforms.Compose([transforms.ToTensor()])\n",
        ") \n",
        "test_loader = torch.utils.data.DataLoader(test_set, batch_size=100)"
      ],
      "id": "a567d63e"
    },
    {
      "cell_type": "markdown",
      "metadata": {
        "id": "d9b6200b"
      },
      "source": [
        "### Explorando o dataset"
      ],
      "id": "d9b6200b"
    },
    {
      "cell_type": "code",
      "execution_count": null,
      "metadata": {
        "colab": {
          "base_uri": "https://localhost:8080/"
        },
        "id": "9be98bd0",
        "outputId": "f2e0cf27-ab86-4061-eb9a-ca7000c35c1a"
      },
      "outputs": [
        {
          "data": {
            "text/plain": [
              "60000"
            ]
          },
          "execution_count": 4,
          "metadata": {},
          "output_type": "execute_result"
        }
      ],
      "source": [
        "# Tamanho do dataset\n",
        "len(train_set)"
      ],
      "id": "9be98bd0"
    },
    {
      "cell_type": "code",
      "execution_count": null,
      "metadata": {
        "colab": {
          "base_uri": "https://localhost:8080/"
        },
        "id": "c00177e0",
        "outputId": "f5f6fdec-4218-4ae7-d763-506465f781c0"
      },
      "outputs": [
        {
          "data": {
            "text/plain": [
              "torch.Size([100, 1, 28, 28])"
            ]
          },
          "execution_count": 5,
          "metadata": {},
          "output_type": "execute_result"
        }
      ],
      "source": [
        "# Vamos observar o que é cada loader\n",
        "example = next(iter(train_loader))\n",
        "example[0].size()"
      ],
      "id": "c00177e0"
    },
    {
      "cell_type": "code",
      "execution_count": null,
      "metadata": {
        "colab": {
          "base_uri": "https://localhost:8080/",
          "height": 282
        },
        "id": "3a096b21",
        "outputId": "22a841d3-8f3d-45ac-8a6a-95b53b94448d"
      },
      "outputs": [
        {
          "name": "stdout",
          "output_type": "stream",
          "text": [
            "9\n"
          ]
        },
        {
          "data": {
            "image/png": "[encoded data removed]",
            "text/plain": [
              "<Figure size 432x288 with 1 Axes>"
            ]
          },
          "metadata": {},
          "output_type": "display_data"
        }
      ],
      "source": [
        "# Uma imagem do train_set, com sua respectiva label\n",
        "img, label = next(iter(train_set))\n",
        "plt.imshow(img.squeeze(), cmap=\"gray\")\n",
        "print(label)"
      ],
      "id": "3a096b21"
    },
    {
      "cell_type": "code",
      "execution_count": null,
      "metadata": {
        "id": "df314fc6"
      },
      "outputs": [],
      "source": [
        "# Função de ajuda para ler o que significa cada label\n",
        "def convert_label(label):\n",
        "    output_mapping = {\n",
        "        0: \"T-shirt/Top\",\n",
        "        1: \"Trouser\",\n",
        "        2: \"Pullover\",\n",
        "        3: \"Dress\",\n",
        "        4: \"Coat\", \n",
        "        5: \"Sandal\", \n",
        "        6: \"Shirt\",\n",
        "        7: \"Sneaker\",\n",
        "        8: \"Bag\",\n",
        "        9: \"Ankle Boot\"\n",
        "    }\n",
        "    \n",
        "    if type(label) == torch.Tensor:\n",
        "        input = label.item()  \n",
        "    else:\n",
        "        input = label\n",
        "    if label>9:\n",
        "        input = 9\n",
        "    if label<0:\n",
        "        input = 0\n",
        "                 \n",
        "    return output_mapping[input]\n",
        " "
      ],
      "id": "df314fc6"
    },
    {
      "cell_type": "code",
      "execution_count": null,
      "metadata": {
        "id": "qy7QnVOpOq7G"
      },
      "outputs": [],
      "source": [
        "labels_map = {\n",
        "    0: 'T-Shirt',\n",
        "    1: 'Trouser',\n",
        "    2: 'Pullover',\n",
        "    3: 'Dress',\n",
        "    4: 'Coat',\n",
        "    5: 'Sandal',\n",
        "    6: 'Shirt',\n",
        "    7: 'Sneaker',\n",
        "    8: 'Bag',\n",
        "    9: 'Ankle Boot'\n",
        "}"
      ],
      "id": "qy7QnVOpOq7G"
    },
    {
      "cell_type": "code",
      "execution_count": null,
      "metadata": {
        "colab": {
          "base_uri": "https://localhost:8080/",
          "height": 191
        },
        "id": "644bacf0",
        "outputId": "22ff6bdd-d28c-426e-d21c-c289bc7e7347"
      },
      "outputs": [
        {
          "name": "stdout",
          "output_type": "stream",
          "text": [
            "<class 'torch.Tensor'> <class 'torch.Tensor'>\n",
            "torch.Size([10, 1, 28, 28]) torch.Size([10])\n",
            "labels:  Ankle Boot, T-shirt/Top, T-shirt/Top, Dress, T-shirt/Top, Pullover, Sneaker, Pullover, Sandal, Sandal, "
          ]
        },
        {
          "data": {
            "image/png": "[encoded data removed]",
            "text/plain": [
              "<Figure size 1080x1440 with 1 Axes>"
            ]
          },
          "metadata": {},
          "output_type": "display_data"
        }
      ],
      "source": [
        "# Vamos observar algumas imagens do Fashion MNIST\n",
        "\n",
        "demo_loader = torch.utils.data.DataLoader(train_set, batch_size=10)\n",
        "\n",
        "batch = next(iter(demo_loader))\n",
        "images, labels = batch\n",
        "print(type(images), type(labels))\n",
        "print(images.shape, labels.shape)\n",
        "\n",
        "grid = utils.make_grid(images, nrow=10)\n",
        "\n",
        "plt.figure(figsize=(15, 20))\n",
        "plt.imshow(np.transpose(grid, (1, 2, 0)))\n",
        "print(\"labels: \", end=\" \")\n",
        "for i, label in enumerate(labels):\n",
        "    print(convert_label(label), end=\", \")"
      ],
      "id": "644bacf0"
    },
    {
      "cell_type": "markdown",
      "metadata": {
        "id": "fc89190d"
      },
      "source": [
        "### Exercício 1 (3 pontos)\n",
        "\n",
        "**Exercício**: Neste trabalho, será necessário implementar duas arquiteturas distintas de redes neurais. Uma vez que elas estejam implementadas, será necessário executar o laço (loop) de treinamento dos modelos por diversas épocas. Para isso, nesse primeiro exercício, crie uma função genérica, capaz de receber um modelo Pytorch e executar os passos básicos de propagação, cálculo do erro, retropropagação e atualização dos pesos. Essa função será utilizada nos exercícios seguintes para treinar os modelos por você implementados. Implemente o laço de treinamento de um modelo por num_epochs.\n",
        "\n",
        "**Instruções**:\n",
        "- Implemente os passos de propagação (forward)\n",
        "- Realize o cálculo do erro usando um critério genérico fornecido pela assinatura da função\n",
        "- Inicialize os gradientes a zero\n",
        "- Implemente o passo de retropropagação do erro (backpropagation)\n",
        "- Faça um passo de otimização\n",
        "- DICA: como essas linhas estão englobadas em uma função, utilize os argumentos da função fit(...), de forma genérica\n"
      ],
      "id": "fc89190d"
    },
    {
      "cell_type": "code",
      "execution_count": null,
      "metadata": {
        "colab": {
          "base_uri": "https://localhost:8080/",
          "height": 265
        },
        "id": "5vK8QaSRxtqK",
        "outputId": "d8080ef3-e746-481d-85d7-8746c662825c"
      },
      "outputs": [
        {
          "data": {
            "image/png": "[encoded data removed]",
            "text/plain": [
              "<Figure size 432x288 with 1 Axes>"
            ]
          },
          "metadata": {},
          "output_type": "display_data"
        }
      ],
      "source": [
        "imgs, labels = next(iter(train_loader))\n",
        "img = imgs[0].squeeze()\n",
        "label = labels[0].item()\n",
        "plt.imshow(img, cmap='gray')\n",
        "plt.show()"
      ],
      "id": "5vK8QaSRxtqK"
    },
    {
      "cell_type": "code",
      "execution_count": null,
      "metadata": {
        "id": "2facaa06"
      },
      "outputs": [],
      "source": [
        "def fit(model, criterion, optimizer, train_loader, test_loader, num_epochs=5):\n",
        "    model.to(device)\n",
        "    \n",
        "    #criação de vetores\n",
        "    train_losses = [] #perdas dos dados de treinamento\n",
        "    test_losses = []  #perdas dos dados de teste\n",
        "    \n",
        "    # Lists for visualization of loss and accuracy \n",
        "    accuracy_list = [] \n",
        "\n",
        "    # Lists for knowing classwise accuracy\n",
        "    predictions_list = []\n",
        "    labels_list = []\n",
        "\n",
        "    for epoch in range(num_epochs):\n",
        "        running_loss = 0\n",
        "\n",
        "        for images, labels in train_loader: #train_loader é um batch\n",
        "            # Transfering images and labels to GPU if available\n",
        "            images, labels = images.to(device), labels.to(device)\n",
        "            labels = labels \n",
        "            #target = F.one_hot(labels, num_classes=10).float()\n",
        "\n",
        "              \n",
        "            \n",
        "\n",
        "            ### INÍCIO DO CÓDIGO ### (≈ 5 linhas)\n",
        "            optimizer.zero_grad()  # zera o gradiente\n",
        "            outputs = model(images)  # propagação\n",
        "            loss = criterion(outputs, labels)  # cálculo do erro\n",
        "            loss.backward()  # retropropagação\n",
        "            optimizer.step()  # otimização\n",
        "            \n",
        "            ### FIM DO CÓDIGO ###\n",
        "\n",
        "            running_loss += loss.item()\n",
        "\n",
        "        else:\n",
        "        # Testing the model\n",
        "\n",
        "            with torch.no_grad():\n",
        "                # Set the model to evaluation mode\n",
        "                model.eval()\n",
        "\n",
        "                total = 0\n",
        "                test_loss = 0\n",
        "                correct = 0\n",
        "\n",
        "                for images, labels in test_loader:\n",
        "                    images, labels = images.to(device), labels.to(device)\n",
        "                    labels_list.append(labels)\n",
        "                    total += len(labels)\n",
        "                    \n",
        "                    ### INÍCIO DO CÓDIGO ### (≈ 1 linha)\n",
        "\n",
        "                    outputs = model(images) # realiza o cálculo com as imagens de teste\n",
        "\n",
        "                    ### FIM DO CÓDIGO ###\n",
        "                    \n",
        "                    predictions = torch.max(outputs, 1)[1].to(device)\n",
        "                    predictions_list.append(predictions)\n",
        "                    correct += (predictions == labels).sum()\n",
        "\n",
        "                    test_loss += criterion(outputs, labels).item()\n",
        "                test_losses.append(test_loss/len(test_loader))\n",
        "\n",
        "                accuracy = correct * 100 / total\n",
        "                accuracy_list.append(accuracy.item())\n",
        "            \n",
        "\n",
        "            # Set the model to training mode\n",
        "            model.train()\n",
        "        \n",
        "        train_losses.append(running_loss/len(train_loader))\n",
        "\n",
        "        print(f'Epoch {epoch+1}/{num_epochs} .. Train Loss: {train_losses[-1]:.5f} .. Test Loss: {test_losses[-1]:.5f} .. Test Accuracy: {accuracy_list[-1]:.3f}%')\n",
        "\n",
        "            \n",
        "    results = {\n",
        "        'train_losses': train_losses,\n",
        "        'test_losses': test_losses,\n",
        "        'accuracy_list': accuracy_list\n",
        "    }\n",
        "    \n",
        "    return results"
      ],
      "id": "2facaa06"
    },
    {
      "cell_type": "markdown",
      "metadata": {
        "id": "889cbf8e"
      },
      "source": [
        "### Exercício 2 - Camadas Densas (2 pontos)\n",
        "\n",
        "**Exercício 2.A**: Implemente uma rede neural, usando camadas densas (fully connected), capaz de classificar as imagens do dataset Fashion MNIST. Descreva e justifique a escolha dos parâmetros e das camadas.\n",
        "\n",
        "**Instruções**:\n",
        "- Inicialize a superclasse\n",
        "- Crie o projeto da rede neural usando camadas densas\n",
        "- Implemente o passo de propagação\n",
        "- Insira uma célula de texto, ou comentários ao longo do código com a justificativa"
      ],
      "id": "889cbf8e"
    },
    {
      "cell_type": "code",
      "execution_count": null,
      "metadata": {
        "id": "444c110e"
      },
      "outputs": [],
      "source": [
        "class NetworkDense(nn.Module):\n",
        "\n",
        "    def __init__(self):\n",
        "        \n",
        "        ### INÍCIO DO CÓDIGO ### (≈ 5 linhas)\n",
        "        super(NetworkDense, self).__init__()\n",
        "\n",
        "        self.fc1 = nn.Linear(784, 32)\n",
        "        self.fc2 = nn.Linear(32, 10)\n",
        "        \n",
        "        ### FIM DO CÓDIGO ###\n",
        "     \n",
        "    def forward(self, x):\n",
        "        \n",
        "        ### INÍCIO DO CÓDIGO ### (≈ 5 linhas)\n",
        "        \n",
        "        x = torch.flatten(x, 1)# achata a entrada x em uma dimensão\n",
        "        x = F.relu(self.fc1(x))# relu como ativação\n",
        "        x = F.softmax(self.fc2(x), dim=1) #camada densa linear, no formato de one hot encoding\n",
        "        return x\n",
        "        ### FIM DO CÓDIGO ###\n",
        "        \n",
        "       \n"
      ],
      "id": "444c110e"
    },
    {
      "cell_type": "code",
      "execution_count": null,
      "metadata": {
        "id": "d9816ce8"
      },
      "outputs": [],
      "source": [
        "# Justifique a escolha da arquitetura\n",
        "\n",
        "# A arquitetura de duas camadas mostrou-se capaz de uma grande quantidade de acertos,\n",
        "# sem utilizar muito espaço, por ter não muitos parâmetros"
      ],
      "id": "d9816ce8"
    },
    {
      "cell_type": "markdown",
      "metadata": {
        "id": "6099498b"
      },
      "source": [
        "**Exercício 2.B**: Utilizando a classe `NetworkDense` implementada anteriormente, inicialize o modelo, defina uma função para loss, o otimizador, e a learning rate desejados. Depois, treine o modelo por algumas épocas."
      ],
      "id": "6099498b"
    },
    {
      "cell_type": "code",
      "execution_count": null,
      "metadata": {
        "colab": {
          "base_uri": "https://localhost:8080/"
        },
        "id": "2eba9050",
        "outputId": "dbe8c998-d7bc-499d-85e4-974432f00057",
        "scrolled": true
      },
      "outputs": [
        {
          "name": "stdout",
          "output_type": "stream",
          "text": [
            "NetworkDense(\n",
            "  (fc1): Linear(in_features=784, out_features=32, bias=True)\n",
            "  (fc2): Linear(in_features=32, out_features=10, bias=True)\n",
            ")\n"
          ]
        }
      ],
      "source": [
        "### INÍCIO DO CÓDIGO ### (≈ 4 linhas)\n",
        "model_dense = NetworkDense()\n",
        "criterion = nn.CrossEntropyLoss() # mean squared error para função de loss\n",
        "learning_rate = 0.2\n",
        "optimizer = optim.SGD(model_dense.parameters(), lr = learning_rate)\n",
        "### FIM DO CÓDIGO ###\n",
        "\n",
        "print(model_dense)"
      ],
      "id": "2eba9050"
    },
    {
      "cell_type": "code",
      "execution_count": null,
      "metadata": {
        "colab": {
          "base_uri": "https://localhost:8080/"
        },
        "id": "wwx3qAgIzx5p",
        "outputId": "b84f371f-abed-4ae4-a25b-7227a8eef6ef"
      },
      "outputs": [
        {
          "name": "stdout",
          "output_type": "stream",
          "text": [
            "torch.Size([100, 1, 28, 28])\n",
            "torch.Size([100, 10])\n",
            "torch.Size([100])\n"
          ]
        }
      ],
      "source": [
        "img, label = next(iter(train_loader))\n",
        "out = model_dense(img)\n",
        "print(img.size())\n",
        "print(out.size())\n",
        "print(label.size())"
      ],
      "id": "wwx3qAgIzx5p"
    },
    {
      "cell_type": "code",
      "execution_count": null,
      "metadata": {
        "colab": {
          "base_uri": "https://localhost:8080/"
        },
        "id": "Nuq6BeB951bR",
        "outputId": "37710609-d1cd-4d56-a01c-e2207181b939"
      },
      "outputs": [
        {
          "name": "stdout",
          "output_type": "stream",
          "text": [
            "tensor(2.3025, grad_fn=<DivBackward1>)\n",
            "torch.Size([100, 10])\n",
            "torch.Size([100, 10])\n",
            "tensor([1., 0., 0., 0., 0., 0., 0., 0., 0., 0.]) tensor([0.1224, 0.0893, 0.0853, 0.1122, 0.0926, 0.1024, 0.1102, 0.0831, 0.1037,\n",
            "        0.0989], grad_fn=<SelectBackward0>)\n"
          ]
        }
      ],
      "source": [
        "img, label = next(iter(train_loader))\n",
        "out = model_dense(img)\n",
        "target = F.one_hot(label, num_classes=10).float()\n",
        "loss = criterion(out,target)\n",
        "print(loss)\n",
        "print(out.size())\n",
        "print(target.size())\n",
        "print(target[1], out[1])"
      ],
      "id": "Nuq6BeB951bR"
    },
    {
      "cell_type": "code",
      "execution_count": null,
      "metadata": {
        "colab": {
          "background_save": true,
          "base_uri": "https://localhost:8080/"
        },
        "id": "0d77c184",
        "scrolled": true,
        "outputId": "a0d766be-e04b-453c-9b7b-357b9a23c330"
      },
      "outputs": [
        {
          "name": "stdout",
          "output_type": "stream",
          "text": [
            "Epoch 1/100 .. Train Loss: 1.62750 .. Test Loss: 1.65877 .. Test Accuracy: 80.110%\n",
            "Epoch 2/100 .. Train Loss: 1.62750 .. Test Loss: 1.65877 .. Test Accuracy: 80.110%\n",
            "Epoch 3/100 .. Train Loss: 1.62750 .. Test Loss: 1.65877 .. Test Accuracy: 80.110%\n",
            "Epoch 4/100 .. Train Loss: 1.62750 .. Test Loss: 1.65877 .. Test Accuracy: 80.110%\n",
            "Epoch 5/100 .. Train Loss: 1.62750 .. Test Loss: 1.65877 .. Test Accuracy: 80.110%\n",
            "Epoch 6/100 .. Train Loss: 1.62750 .. Test Loss: 1.65877 .. Test Accuracy: 80.110%\n",
            "Epoch 7/100 .. Train Loss: 1.62750 .. Test Loss: 1.65877 .. Test Accuracy: 80.110%\n",
            "Epoch 8/100 .. Train Loss: 1.62750 .. Test Loss: 1.65877 .. Test Accuracy: 80.110%\n",
            "Epoch 9/100 .. Train Loss: 1.62750 .. Test Loss: 1.65877 .. Test Accuracy: 80.110%\n",
            "Epoch 10/100 .. Train Loss: 1.62750 .. Test Loss: 1.65877 .. Test Accuracy: 80.110%\n",
            "Epoch 11/100 .. Train Loss: 1.62750 .. Test Loss: 1.65877 .. Test Accuracy: 80.110%\n",
            "Epoch 12/100 .. Train Loss: 1.62750 .. Test Loss: 1.65877 .. Test Accuracy: 80.110%\n",
            "Epoch 13/100 .. Train Loss: 1.62750 .. Test Loss: 1.65877 .. Test Accuracy: 80.110%\n",
            "Epoch 14/100 .. Train Loss: 1.62750 .. Test Loss: 1.65877 .. Test Accuracy: 80.110%\n",
            "Epoch 15/100 .. Train Loss: 1.62750 .. Test Loss: 1.65877 .. Test Accuracy: 80.110%\n",
            "Epoch 16/100 .. Train Loss: 1.62750 .. Test Loss: 1.65877 .. Test Accuracy: 80.110%\n",
            "Epoch 17/100 .. Train Loss: 1.62750 .. Test Loss: 1.65877 .. Test Accuracy: 80.110%\n",
            "Epoch 18/100 .. Train Loss: 1.62750 .. Test Loss: 1.65877 .. Test Accuracy: 80.110%\n",
            "Epoch 19/100 .. Train Loss: 1.62750 .. Test Loss: 1.65877 .. Test Accuracy: 80.110%\n",
            "Epoch 20/100 .. Train Loss: 1.62750 .. Test Loss: 1.65877 .. Test Accuracy: 80.110%\n",
            "Epoch 21/100 .. Train Loss: 1.62750 .. Test Loss: 1.65877 .. Test Accuracy: 80.110%\n",
            "Epoch 22/100 .. Train Loss: 1.62750 .. Test Loss: 1.65877 .. Test Accuracy: 80.110%\n",
            "Epoch 23/100 .. Train Loss: 1.62750 .. Test Loss: 1.65877 .. Test Accuracy: 80.110%\n",
            "Epoch 24/100 .. Train Loss: 1.62750 .. Test Loss: 1.65877 .. Test Accuracy: 80.110%\n",
            "Epoch 25/100 .. Train Loss: 1.62750 .. Test Loss: 1.65877 .. Test Accuracy: 80.110%\n",
            "Epoch 26/100 .. Train Loss: 1.62750 .. Test Loss: 1.65877 .. Test Accuracy: 80.110%\n",
            "Epoch 27/100 .. Train Loss: 1.62750 .. Test Loss: 1.65877 .. Test Accuracy: 80.110%\n",
            "Epoch 28/100 .. Train Loss: 1.62750 .. Test Loss: 1.65877 .. Test Accuracy: 80.110%\n",
            "Epoch 29/100 .. Train Loss: 1.62750 .. Test Loss: 1.65877 .. Test Accuracy: 80.110%\n",
            "Epoch 30/100 .. Train Loss: 1.62750 .. Test Loss: 1.65877 .. Test Accuracy: 80.110%\n",
            "Epoch 31/100 .. Train Loss: 1.62750 .. Test Loss: 1.65877 .. Test Accuracy: 80.110%\n",
            "Epoch 32/100 .. Train Loss: 1.62750 .. Test Loss: 1.65877 .. Test Accuracy: 80.110%\n",
            "Epoch 33/100 .. Train Loss: 1.62750 .. Test Loss: 1.65877 .. Test Accuracy: 80.110%\n",
            "Epoch 34/100 .. Train Loss: 1.62750 .. Test Loss: 1.65877 .. Test Accuracy: 80.110%\n",
            "Epoch 35/100 .. Train Loss: 1.62750 .. Test Loss: 1.65877 .. Test Accuracy: 80.110%\n",
            "Epoch 36/100 .. Train Loss: 1.62750 .. Test Loss: 1.65877 .. Test Accuracy: 80.110%\n",
            "Epoch 37/100 .. Train Loss: 1.62750 .. Test Loss: 1.65877 .. Test Accuracy: 80.110%\n",
            "Epoch 38/100 .. Train Loss: 1.62750 .. Test Loss: 1.65877 .. Test Accuracy: 80.110%\n",
            "Epoch 39/100 .. Train Loss: 1.62750 .. Test Loss: 1.65877 .. Test Accuracy: 80.110%\n",
            "Epoch 40/100 .. Train Loss: 1.62750 .. Test Loss: 1.65877 .. Test Accuracy: 80.110%\n",
            "Epoch 41/100 .. Train Loss: 1.62750 .. Test Loss: 1.65877 .. Test Accuracy: 80.110%\n",
            "Epoch 42/100 .. Train Loss: 1.62750 .. Test Loss: 1.65877 .. Test Accuracy: 80.110%\n",
            "Epoch 43/100 .. Train Loss: 1.62750 .. Test Loss: 1.65877 .. Test Accuracy: 80.110%\n",
            "Epoch 44/100 .. Train Loss: 1.62750 .. Test Loss: 1.65877 .. Test Accuracy: 80.110%\n",
            "Epoch 45/100 .. Train Loss: 1.62750 .. Test Loss: 1.65877 .. Test Accuracy: 80.110%\n",
            "Epoch 46/100 .. Train Loss: 1.62750 .. Test Loss: 1.65877 .. Test Accuracy: 80.110%\n",
            "Epoch 47/100 .. Train Loss: 1.62750 .. Test Loss: 1.65877 .. Test Accuracy: 80.110%\n",
            "Epoch 48/100 .. Train Loss: 1.62750 .. Test Loss: 1.65877 .. Test Accuracy: 80.110%\n",
            "Epoch 49/100 .. Train Loss: 1.62750 .. Test Loss: 1.65877 .. Test Accuracy: 80.110%\n",
            "Epoch 50/100 .. Train Loss: 1.62750 .. Test Loss: 1.65877 .. Test Accuracy: 80.110%\n",
            "Epoch 51/100 .. Train Loss: 1.62750 .. Test Loss: 1.65877 .. Test Accuracy: 80.110%\n",
            "Epoch 52/100 .. Train Loss: 1.62750 .. Test Loss: 1.65877 .. Test Accuracy: 80.110%\n",
            "Epoch 53/100 .. Train Loss: 1.62750 .. Test Loss: 1.65877 .. Test Accuracy: 80.110%\n",
            "Epoch 54/100 .. Train Loss: 1.62750 .. Test Loss: 1.65877 .. Test Accuracy: 80.110%\n",
            "Epoch 55/100 .. Train Loss: 1.62750 .. Test Loss: 1.65877 .. Test Accuracy: 80.110%\n",
            "Epoch 56/100 .. Train Loss: 1.62750 .. Test Loss: 1.65877 .. Test Accuracy: 80.110%\n",
            "Epoch 57/100 .. Train Loss: 1.62750 .. Test Loss: 1.65877 .. Test Accuracy: 80.110%\n",
            "Epoch 58/100 .. Train Loss: 1.62750 .. Test Loss: 1.65877 .. Test Accuracy: 80.110%\n",
            "Epoch 59/100 .. Train Loss: 1.62750 .. Test Loss: 1.65877 .. Test Accuracy: 80.110%\n",
            "Epoch 60/100 .. Train Loss: 1.62750 .. Test Loss: 1.65877 .. Test Accuracy: 80.110%\n",
            "Epoch 61/100 .. Train Loss: 1.62750 .. Test Loss: 1.65877 .. Test Accuracy: 80.110%\n",
            "Epoch 62/100 .. Train Loss: 1.62750 .. Test Loss: 1.65877 .. Test Accuracy: 80.110%\n",
            "Epoch 63/100 .. Train Loss: 1.62750 .. Test Loss: 1.65877 .. Test Accuracy: 80.110%\n",
            "Epoch 64/100 .. Train Loss: 1.62750 .. Test Loss: 1.65877 .. Test Accuracy: 80.110%\n",
            "Epoch 65/100 .. Train Loss: 1.62750 .. Test Loss: 1.65877 .. Test Accuracy: 80.110%\n",
            "Epoch 66/100 .. Train Loss: 1.62750 .. Test Loss: 1.65877 .. Test Accuracy: 80.110%\n",
            "Epoch 67/100 .. Train Loss: 1.62750 .. Test Loss: 1.65877 .. Test Accuracy: 80.110%\n",
            "Epoch 68/100 .. Train Loss: 1.62750 .. Test Loss: 1.65877 .. Test Accuracy: 80.110%\n",
            "Epoch 69/100 .. Train Loss: 1.62750 .. Test Loss: 1.65877 .. Test Accuracy: 80.110%\n",
            "Epoch 70/100 .. Train Loss: 1.62750 .. Test Loss: 1.65877 .. Test Accuracy: 80.110%\n",
            "Epoch 71/100 .. Train Loss: 1.62750 .. Test Loss: 1.65877 .. Test Accuracy: 80.110%\n",
            "Epoch 72/100 .. Train Loss: 1.62750 .. Test Loss: 1.65877 .. Test Accuracy: 80.110%\n",
            "Epoch 73/100 .. Train Loss: 1.62750 .. Test Loss: 1.65877 .. Test Accuracy: 80.110%\n",
            "Epoch 74/100 .. Train Loss: 1.62750 .. Test Loss: 1.65877 .. Test Accuracy: 80.110%\n",
            "Epoch 75/100 .. Train Loss: 1.62750 .. Test Loss: 1.65877 .. Test Accuracy: 80.110%\n",
            "Epoch 76/100 .. Train Loss: 1.62750 .. Test Loss: 1.65877 .. Test Accuracy: 80.110%\n",
            "Epoch 77/100 .. Train Loss: 1.62750 .. Test Loss: 1.65877 .. Test Accuracy: 80.110%\n",
            "Epoch 78/100 .. Train Loss: 1.62750 .. Test Loss: 1.65877 .. Test Accuracy: 80.110%\n",
            "Epoch 79/100 .. Train Loss: 1.62750 .. Test Loss: 1.65877 .. Test Accuracy: 80.110%\n",
            "Epoch 80/100 .. Train Loss: 1.62750 .. Test Loss: 1.65877 .. Test Accuracy: 80.110%\n",
            "Epoch 81/100 .. Train Loss: 1.62750 .. Test Loss: 1.65877 .. Test Accuracy: 80.110%\n",
            "Epoch 82/100 .. Train Loss: 1.62750 .. Test Loss: 1.65877 .. Test Accuracy: 80.110%\n",
            "Epoch 83/100 .. Train Loss: 1.62750 .. Test Loss: 1.65877 .. Test Accuracy: 80.110%\n",
            "Epoch 84/100 .. Train Loss: 1.62750 .. Test Loss: 1.65877 .. Test Accuracy: 80.110%\n",
            "Epoch 85/100 .. Train Loss: 1.62750 .. Test Loss: 1.65877 .. Test Accuracy: 80.110%\n",
            "Epoch 86/100 .. Train Loss: 1.62750 .. Test Loss: 1.65877 .. Test Accuracy: 80.110%\n",
            "Epoch 87/100 .. Train Loss: 1.62750 .. Test Loss: 1.65877 .. Test Accuracy: 80.110%\n",
            "Epoch 88/100 .. Train Loss: 1.62750 .. Test Loss: 1.65877 .. Test Accuracy: 80.110%\n",
            "Epoch 89/100 .. Train Loss: 1.62750 .. Test Loss: 1.65877 .. Test Accuracy: 80.110%\n",
            "Epoch 90/100 .. Train Loss: 1.62750 .. Test Loss: 1.65877 .. Test Accuracy: 80.110%\n",
            "Epoch 91/100 .. Train Loss: 1.62750 .. Test Loss: 1.65877 .. Test Accuracy: 80.110%\n",
            "Epoch 92/100 .. Train Loss: 1.62750 .. Test Loss: 1.65877 .. Test Accuracy: 80.110%\n",
            "Epoch 93/100 .. Train Loss: 1.62750 .. Test Loss: 1.65877 .. Test Accuracy: 80.110%\n",
            "Epoch 94/100 .. Train Loss: 1.62750 .. Test Loss: 1.65877 .. Test Accuracy: 80.110%\n",
            "Epoch 95/100 .. Train Loss: 1.62750 .. Test Loss: 1.65877 .. Test Accuracy: 80.110%\n",
            "Epoch 96/100 .. Train Loss: 1.62750 .. Test Loss: 1.65877 .. Test Accuracy: 80.110%\n",
            "Epoch 97/100 .. Train Loss: 1.62750 .. Test Loss: 1.65877 .. Test Accuracy: 80.110%\n",
            "Epoch 98/100 .. Train Loss: 1.62750 .. Test Loss: 1.65877 .. Test Accuracy: 80.110%\n",
            "Epoch 99/100 .. Train Loss: 1.62750 .. Test Loss: 1.65877 .. Test Accuracy: 80.110%\n",
            "Epoch 100/100 .. Train Loss: 1.62750 .. Test Loss: 1.65877 .. Test Accuracy: 80.110%\n"
          ]
        }
      ],
      "source": [
        "### INÍCIO DO CÓDIGO ### (≈ 1 linha)\n",
        "#for learning_rate in np.linspace(0.001, 0.1, 3):\n",
        "   \n",
        "#print('Utilizando lr=', learning_rate)\n",
        "den_results = fit(model_dense, criterion, optimizer, train_loader, test_loader, num_epochs=100)\n",
        "   \n",
        "### FIM DO CÓDIGO ###"
      ],
      "id": "0d77c184"
    },
    {
      "cell_type": "code",
      "execution_count": null,
      "metadata": {
        "colab": {
          "background_save": true
        },
        "id": "y5_Nbr77K3yv",
        "outputId": "c08a2b21-e516-4059-e22c-b8e7424b4f23"
      },
      "outputs": [
        {
          "data": {
            "image/png": "[encoded data removed]",
            "text/plain": [
              "<Figure size 576x576 with 16 Axes>"
            ]
          },
          "metadata": {},
          "output_type": "display_data"
        }
      ],
      "source": [
        "#para visualizar melhor:\n",
        "figure = plt.figure(figsize=(8,8))\n",
        "cols, rows = 4, 4\n",
        "for i in range(1, cols*rows+1):\n",
        "    sample_idx = torch.randint(len(train_set), size=(1,)).item()\n",
        "    img, label = train_set[sample_idx]\n",
        "    out = model_dense(img)\n",
        "    label_out = out.argmax().item()\n",
        "    figure.add_subplot(rows, cols, i)\n",
        "    plt.title(convert_label(label_out))\n",
        "    plt.axis('off')\n",
        "    plt.imshow(img.squeeze(), cmap='gray')\n",
        "plt.show()"
      ],
      "id": "y5_Nbr77K3yv"
    },
    {
      "cell_type": "markdown",
      "metadata": {
        "id": "41b4c0e9"
      },
      "source": [
        "### Exercício 3  - Camadas Convolucionais (2 pontos)\n",
        "\n",
        "**Exercício 3.A**: Implemente uma rede neural, usando camadas convolucionais (Conv2d), capaz de classificar as imagens do dataset Fashion MNIST. Descreva e justifique a escolha dos parâmetros e das camadas.\n",
        "\n",
        "**Instruções**:\n",
        "- Inicialize a superclasse\n",
        "- Crie o projeto da rede neural usando camadas convolucionais\n",
        "- Implemente o passo de propagação\n",
        "- Insira uma célula de texto, ou comentários ao longo do código com a justificativa"
      ],
      "id": "41b4c0e9"
    },
    {
      "cell_type": "code",
      "execution_count": null,
      "metadata": {
        "colab": {
          "background_save": true
        },
        "id": "91e66f05"
      },
      "outputs": [],
      "source": [
        "class NetworkCNN(nn.Module):\n",
        "    \n",
        "    def __init__(self):\n",
        "        super(NetworkCNN, self).__init__()\n",
        "        ### INÍCIO DO CÓDIGO ### \n",
        "\n",
        "        self.conv1 = nn.Conv2d(1, 6, 5)      #1 canal de entrada, 6 canais de saída, kernel size=5 (5x5)\n",
        "        self.pool = nn.MaxPool2d(2, 2)       #tamanho 2x2, stride/passo 2\n",
        "        self.conv2 = nn.Conv2d(6, 16, 5)     #6 canais de entrada, 16 canais de saída, kernel size=5 (5x5)\n",
        "        self.fc1 = nn.Linear(16*4*4, 100)    #mlp gera 100 saídas\n",
        "        self.fc2 = nn.Linear(100, 10)        #mlp gera 10 saídas (as classes do dataset)\n",
        "\n",
        "        ### FIM DO CÓDIGO ###\n",
        "        \n",
        "        \n",
        "    def forward(self, x):\n",
        "        \n",
        "        ### INÍCIO DO CÓDIGO ### \n",
        "        \n",
        "        x = F.relu(self.conv1(x))            #ReLu após a primeira camada convolucional (sem negativos)\n",
        "        x = self.pool(x)                     #MaxPool2d: reduz o tamanho do sample\n",
        "        x = F.relu(self.conv2(x))            #ReLu após a segunda camada convolucional\n",
        "        x = self.pool(x)                     #MaxPool2d: reduz o tamanho do sample\n",
        "        x = torch.flatten(x, 1)              #Ajusta a entrada para as duas últimas camadas\n",
        "        x = F.relu(self.fc1(x))              #ReLu após a primeira MLP\n",
        "        x = F.softmax(self.fc2(x), dim=1)    #Softmax após a segunda MLP para transformar em probabilidades. \n",
        "        \n",
        "        ### FIM DO CÓDIGO ###\n",
        "        \n",
        "        return x"
      ],
      "id": "91e66f05"
    },
    {
      "cell_type": "code",
      "execution_count": null,
      "metadata": {
        "colab": {
          "background_save": true
        },
        "id": "a6952e4e"
      },
      "outputs": [],
      "source": [
        "# Justifique a escolha da arquitetura\n",
        "\n",
        "# A arquitetura escolhida foi a arquitetura sequencial. Ela foi escolhida por conta da simplicidade\n",
        "# de implementação e o número reduzido de camadas faz com que o tempo de treinamento não seja muito elevado"
      ],
      "id": "a6952e4e"
    },
    {
      "cell_type": "markdown",
      "metadata": {
        "id": "b98c48dc"
      },
      "source": [
        "**Exercício 3.B**: Utilizando a classe `NetworkCNN` implementada anteriormente, inicialize o modelo, defina uma função para loss, o otimizador, e a learning rate desejados. Depois, treine o modelo por algumas épocas."
      ],
      "id": "b98c48dc"
    },
    {
      "cell_type": "code",
      "execution_count": null,
      "metadata": {
        "colab": {
          "background_save": true
        },
        "id": "58287f52",
        "outputId": "93397dd7-d70f-4815-8e80-9c2adb4fad73"
      },
      "outputs": [
        {
          "name": "stdout",
          "output_type": "stream",
          "text": [
            "NetworkCNN(\n",
            "  (conv1): Conv2d(1, 6, kernel_size=(5, 5), stride=(1, 1))\n",
            "  (pool): MaxPool2d(kernel_size=2, stride=2, padding=0, dilation=1, ceil_mode=False)\n",
            "  (conv2): Conv2d(6, 16, kernel_size=(5, 5), stride=(1, 1))\n",
            "  (fc1): Linear(in_features=256, out_features=100, bias=True)\n",
            "  (fc2): Linear(in_features=100, out_features=10, bias=True)\n",
            ")\n"
          ]
        }
      ],
      "source": [
        "### INÍCIO DO CÓDIGO ### (≈ 4 linhas)\n",
        "model_cnn = NetworkCNN()# ...\n",
        "criterion = nn.CrossEntropyLoss()# ...\n",
        "learning_rate = 0.1# ...\n",
        "optimizer = optim.SGD(model_cnn.parameters(), lr=learning_rate)# ...\n",
        "### FIM DO CÓDIGO ###\n",
        "\n",
        "print(model_cnn)"
      ],
      "id": "58287f52"
    },
    {
      "cell_type": "code",
      "execution_count": null,
      "metadata": {
        "colab": {
          "background_save": true
        },
        "id": "0b240e9c",
        "outputId": "99cd981c-5b5f-442f-f313-cace15cd32cf"
      },
      "outputs": [
        {
          "name": "stdout",
          "output_type": "stream",
          "text": [
            "Epoch 1/100 .. Train Loss: 2.06334 .. Test Loss: 1.87636 .. Test Accuracy: 58.310%\n",
            "Epoch 2/100 .. Train Loss: 1.82625 .. Test Loss: 1.82381 .. Test Accuracy: 63.880%\n",
            "Epoch 3/100 .. Train Loss: 1.79327 .. Test Loss: 1.78987 .. Test Accuracy: 67.140%\n",
            "Epoch 4/100 .. Train Loss: 1.77718 .. Test Loss: 1.77459 .. Test Accuracy: 68.770%\n",
            "Epoch 5/100 .. Train Loss: 1.76663 .. Test Loss: 1.76964 .. Test Accuracy: 69.330%\n",
            "Epoch 6/100 .. Train Loss: 1.76006 .. Test Loss: 1.77070 .. Test Accuracy: 68.930%\n",
            "Epoch 7/100 .. Train Loss: 1.75310 .. Test Loss: 1.75952 .. Test Accuracy: 70.130%\n",
            "Epoch 8/100 .. Train Loss: 1.74719 .. Test Loss: 1.75794 .. Test Accuracy: 70.240%\n",
            "Epoch 9/100 .. Train Loss: 1.74225 .. Test Loss: 1.75635 .. Test Accuracy: 70.430%\n",
            "Epoch 10/100 .. Train Loss: 1.73902 .. Test Loss: 1.75557 .. Test Accuracy: 70.630%\n",
            "Epoch 11/100 .. Train Loss: 1.73661 .. Test Loss: 1.74434 .. Test Accuracy: 71.710%\n",
            "Epoch 12/100 .. Train Loss: 1.73400 .. Test Loss: 1.74621 .. Test Accuracy: 71.600%\n",
            "Epoch 13/100 .. Train Loss: 1.73238 .. Test Loss: 1.74728 .. Test Accuracy: 71.430%\n",
            "Epoch 14/100 .. Train Loss: 1.73037 .. Test Loss: 1.74620 .. Test Accuracy: 71.480%\n",
            "Epoch 15/100 .. Train Loss: 1.72906 .. Test Loss: 1.74969 .. Test Accuracy: 71.140%\n",
            "Epoch 16/100 .. Train Loss: 1.72765 .. Test Loss: 1.73728 .. Test Accuracy: 72.360%\n",
            "Epoch 17/100 .. Train Loss: 1.72597 .. Test Loss: 1.74135 .. Test Accuracy: 71.990%\n",
            "Epoch 18/100 .. Train Loss: 1.72419 .. Test Loss: 1.73729 .. Test Accuracy: 72.450%\n",
            "Epoch 19/100 .. Train Loss: 1.70762 .. Test Loss: 1.69954 .. Test Accuracy: 76.470%\n",
            "Epoch 20/100 .. Train Loss: 1.67823 .. Test Loss: 1.68731 .. Test Accuracy: 77.590%\n",
            "Epoch 21/100 .. Train Loss: 1.67255 .. Test Loss: 1.68122 .. Test Accuracy: 77.930%\n",
            "Epoch 22/100 .. Train Loss: 1.66766 .. Test Loss: 1.67739 .. Test Accuracy: 78.470%\n",
            "Epoch 23/100 .. Train Loss: 1.66441 .. Test Loss: 1.67700 .. Test Accuracy: 78.470%\n",
            "Epoch 24/100 .. Train Loss: 1.66100 .. Test Loss: 1.67014 .. Test Accuracy: 79.220%\n",
            "Epoch 25/100 .. Train Loss: 1.65829 .. Test Loss: 1.66823 .. Test Accuracy: 79.510%\n",
            "Epoch 26/100 .. Train Loss: 1.65511 .. Test Loss: 1.66894 .. Test Accuracy: 79.220%\n",
            "Epoch 27/100 .. Train Loss: 1.65377 .. Test Loss: 1.67035 .. Test Accuracy: 79.090%\n",
            "Epoch 28/100 .. Train Loss: 1.65197 .. Test Loss: 1.66452 .. Test Accuracy: 79.720%\n",
            "Epoch 29/100 .. Train Loss: 1.65018 .. Test Loss: 1.66492 .. Test Accuracy: 79.610%\n",
            "Epoch 30/100 .. Train Loss: 1.64892 .. Test Loss: 1.66319 .. Test Accuracy: 79.850%\n",
            "Epoch 31/100 .. Train Loss: 1.64689 .. Test Loss: 1.65689 .. Test Accuracy: 80.390%\n",
            "Epoch 32/100 .. Train Loss: 1.64592 .. Test Loss: 1.65615 .. Test Accuracy: 80.360%\n",
            "Epoch 33/100 .. Train Loss: 1.64497 .. Test Loss: 1.65195 .. Test Accuracy: 80.830%\n",
            "Epoch 34/100 .. Train Loss: 1.64442 .. Test Loss: 1.65690 .. Test Accuracy: 80.450%\n",
            "Epoch 35/100 .. Train Loss: 1.64269 .. Test Loss: 1.65348 .. Test Accuracy: 80.670%\n",
            "Epoch 36/100 .. Train Loss: 1.64176 .. Test Loss: 1.65178 .. Test Accuracy: 80.980%\n",
            "Epoch 37/100 .. Train Loss: 1.64057 .. Test Loss: 1.65223 .. Test Accuracy: 80.890%\n",
            "Epoch 38/100 .. Train Loss: 1.64019 .. Test Loss: 1.65252 .. Test Accuracy: 80.900%\n",
            "Epoch 39/100 .. Train Loss: 1.63873 .. Test Loss: 1.65335 .. Test Accuracy: 80.770%\n",
            "Epoch 40/100 .. Train Loss: 1.63766 .. Test Loss: 1.65108 .. Test Accuracy: 80.990%\n",
            "Epoch 41/100 .. Train Loss: 1.63755 .. Test Loss: 1.65100 .. Test Accuracy: 81.000%\n",
            "Epoch 42/100 .. Train Loss: 1.63640 .. Test Loss: 1.65011 .. Test Accuracy: 81.150%\n",
            "Epoch 43/100 .. Train Loss: 1.63579 .. Test Loss: 1.65822 .. Test Accuracy: 80.370%\n",
            "Epoch 44/100 .. Train Loss: 1.63499 .. Test Loss: 1.64851 .. Test Accuracy: 81.180%\n",
            "Epoch 45/100 .. Train Loss: 1.63460 .. Test Loss: 1.64997 .. Test Accuracy: 81.200%\n",
            "Epoch 46/100 .. Train Loss: 1.63367 .. Test Loss: 1.65079 .. Test Accuracy: 81.060%\n",
            "Epoch 47/100 .. Train Loss: 1.63285 .. Test Loss: 1.65045 .. Test Accuracy: 81.010%\n",
            "Epoch 48/100 .. Train Loss: 1.63232 .. Test Loss: 1.64994 .. Test Accuracy: 81.110%\n",
            "Epoch 49/100 .. Train Loss: 1.63268 .. Test Loss: 1.65042 .. Test Accuracy: 81.110%\n",
            "Epoch 50/100 .. Train Loss: 1.63162 .. Test Loss: 1.64895 .. Test Accuracy: 81.170%\n",
            "Epoch 51/100 .. Train Loss: 1.63117 .. Test Loss: 1.64708 .. Test Accuracy: 81.450%\n",
            "Epoch 52/100 .. Train Loss: 1.63061 .. Test Loss: 1.64868 .. Test Accuracy: 81.200%\n",
            "Epoch 53/100 .. Train Loss: 1.62958 .. Test Loss: 1.64856 .. Test Accuracy: 81.150%\n",
            "Epoch 54/100 .. Train Loss: 1.62919 .. Test Loss: 1.64663 .. Test Accuracy: 81.340%\n",
            "Epoch 55/100 .. Train Loss: 1.62834 .. Test Loss: 1.64621 .. Test Accuracy: 81.410%\n",
            "Epoch 56/100 .. Train Loss: 1.62836 .. Test Loss: 1.64772 .. Test Accuracy: 81.310%\n",
            "Epoch 57/100 .. Train Loss: 1.62753 .. Test Loss: 1.64519 .. Test Accuracy: 81.570%\n",
            "Epoch 58/100 .. Train Loss: 1.62651 .. Test Loss: 1.64709 .. Test Accuracy: 81.340%\n",
            "Epoch 59/100 .. Train Loss: 1.62662 .. Test Loss: 1.64448 .. Test Accuracy: 81.660%\n",
            "Epoch 60/100 .. Train Loss: 1.62608 .. Test Loss: 1.64361 .. Test Accuracy: 81.740%\n",
            "Epoch 61/100 .. Train Loss: 1.62533 .. Test Loss: 1.64673 .. Test Accuracy: 81.290%\n",
            "Epoch 62/100 .. Train Loss: 1.62481 .. Test Loss: 1.64399 .. Test Accuracy: 81.740%\n",
            "Epoch 63/100 .. Train Loss: 1.62417 .. Test Loss: 1.64601 .. Test Accuracy: 81.460%\n",
            "Epoch 64/100 .. Train Loss: 1.62402 .. Test Loss: 1.64659 .. Test Accuracy: 81.440%\n",
            "Epoch 65/100 .. Train Loss: 1.62305 .. Test Loss: 1.64502 .. Test Accuracy: 81.630%\n",
            "Epoch 66/100 .. Train Loss: 1.62317 .. Test Loss: 1.64633 .. Test Accuracy: 81.450%\n",
            "Epoch 67/100 .. Train Loss: 1.62272 .. Test Loss: 1.64332 .. Test Accuracy: 81.840%\n",
            "Epoch 68/100 .. Train Loss: 1.62274 .. Test Loss: 1.64609 .. Test Accuracy: 81.440%\n",
            "Epoch 69/100 .. Train Loss: 1.62239 .. Test Loss: 1.64517 .. Test Accuracy: 81.570%\n",
            "Epoch 70/100 .. Train Loss: 1.62121 .. Test Loss: 1.64686 .. Test Accuracy: 81.290%\n",
            "Epoch 71/100 .. Train Loss: 1.62106 .. Test Loss: 1.64439 .. Test Accuracy: 81.730%\n",
            "Epoch 72/100 .. Train Loss: 1.62038 .. Test Loss: 1.64272 .. Test Accuracy: 81.750%\n",
            "Epoch 73/100 .. Train Loss: 1.62033 .. Test Loss: 1.63998 .. Test Accuracy: 82.200%\n",
            "Epoch 74/100 .. Train Loss: 1.62092 .. Test Loss: 1.64369 .. Test Accuracy: 81.650%\n",
            "Epoch 75/100 .. Train Loss: 1.61999 .. Test Loss: 1.64365 .. Test Accuracy: 81.750%\n",
            "Epoch 76/100 .. Train Loss: 1.61925 .. Test Loss: 1.64283 .. Test Accuracy: 81.850%\n",
            "Epoch 77/100 .. Train Loss: 1.61961 .. Test Loss: 1.64197 .. Test Accuracy: 81.890%\n",
            "Epoch 78/100 .. Train Loss: 1.62028 .. Test Loss: 1.64257 .. Test Accuracy: 81.820%\n",
            "Epoch 79/100 .. Train Loss: 1.61919 .. Test Loss: 1.64037 .. Test Accuracy: 82.100%\n",
            "Epoch 80/100 .. Train Loss: 1.61860 .. Test Loss: 1.64459 .. Test Accuracy: 81.640%\n",
            "Epoch 81/100 .. Train Loss: 1.61819 .. Test Loss: 1.64493 .. Test Accuracy: 81.500%\n",
            "Epoch 82/100 .. Train Loss: 1.61760 .. Test Loss: 1.64414 .. Test Accuracy: 81.670%\n",
            "Epoch 83/100 .. Train Loss: 1.61723 .. Test Loss: 1.64128 .. Test Accuracy: 81.990%\n",
            "Epoch 84/100 .. Train Loss: 1.61799 .. Test Loss: 1.64327 .. Test Accuracy: 81.750%\n",
            "Epoch 85/100 .. Train Loss: 1.61826 .. Test Loss: 1.64396 .. Test Accuracy: 81.700%\n",
            "Epoch 86/100 .. Train Loss: 1.61692 .. Test Loss: 1.64289 .. Test Accuracy: 81.750%\n",
            "Epoch 87/100 .. Train Loss: 1.61582 .. Test Loss: 1.64306 .. Test Accuracy: 81.780%\n",
            "Epoch 88/100 .. Train Loss: 1.61574 .. Test Loss: 1.64488 .. Test Accuracy: 81.600%\n",
            "Epoch 89/100 .. Train Loss: 1.61561 .. Test Loss: 1.64257 .. Test Accuracy: 81.890%\n",
            "Epoch 90/100 .. Train Loss: 1.61472 .. Test Loss: 1.64459 .. Test Accuracy: 81.580%\n",
            "Epoch 91/100 .. Train Loss: 1.61534 .. Test Loss: 1.64134 .. Test Accuracy: 81.920%\n",
            "Epoch 92/100 .. Train Loss: 1.61498 .. Test Loss: 1.64341 .. Test Accuracy: 81.730%\n",
            "Epoch 93/100 .. Train Loss: 1.61426 .. Test Loss: 1.64250 .. Test Accuracy: 81.740%\n",
            "Epoch 94/100 .. Train Loss: 1.61409 .. Test Loss: 1.64360 .. Test Accuracy: 81.630%\n",
            "Epoch 95/100 .. Train Loss: 1.61474 .. Test Loss: 1.64145 .. Test Accuracy: 81.960%\n",
            "Epoch 96/100 .. Train Loss: 1.61404 .. Test Loss: 1.64304 .. Test Accuracy: 81.660%\n",
            "Epoch 97/100 .. Train Loss: 1.61331 .. Test Loss: 1.64023 .. Test Accuracy: 82.030%\n",
            "Epoch 98/100 .. Train Loss: 1.61318 .. Test Loss: 1.64089 .. Test Accuracy: 81.940%\n",
            "Epoch 99/100 .. Train Loss: 1.61278 .. Test Loss: 1.64265 .. Test Accuracy: 81.720%\n",
            "Epoch 100/100 .. Train Loss: 1.61292 .. Test Loss: 1.64477 .. Test Accuracy: 81.580%\n"
          ]
        }
      ],
      "source": [
        "### INÍCIO DO CÓDIGO ### (≈ 1 linha)\n",
        "#for learning_rate in np.linspace(0.001, 0.5, 3):\n",
        "#print('Utilizando lr=', learning_rate)\n",
        "cnn_results = fit(model_cnn, criterion, optimizer, train_loader, test_loader, num_epochs=100)#...\n",
        "### FIM DO CÓDIGO ###"
      ],
      "id": "0b240e9c"
    },
    {
      "cell_type": "markdown",
      "metadata": {
        "id": "d8f10449"
      },
      "source": [
        "### Exercício 4  - Quantidade de parâmetros treináveis (1 ponto)\n",
        "\n",
        "**Exercício**: Quantos parâmetros treináveis cada um dos modelos desenvolvidos possui? Justifique. Informe os valores para `model_dense` e `model_cnn`."
      ],
      "id": "d8f10449"
    },
    {
      "cell_type": "markdown",
      "metadata": {
        "id": "87df2a6a"
      },
      "source": [
        "## **Parâmetros de `model_dense`**\n",
        "\n",
        "* Camada 1: 784 entradas, 32 saídas\n",
        "\n",
        "\n",
        "\n",
        "> Como há 32 saídas, há 32 neurônios, com 784 valores de pesos para cada um + 32 bias\n",
        "\n",
        "\n",
        "\n",
        "* Camada 2: 32 entradas, 10 saídas\n",
        "\n",
        ">Como há 10 saídas, há 10 neurônios, com 32 valores de pesos para cada um + 10 bias.\n",
        "---\n",
        "$(32*784+32)+(10*32+10) = 25450$ parâmetros\n",
        "\n",
        "\n",
        "\n",
        "\n",
        "\n"
      ],
      "id": "87df2a6a"
    },
    {
      "cell_type": "markdown",
      "metadata": {
        "id": "hgySEy2v2Xht"
      },
      "source": [
        "## **Parâmetros de `model_cnn`**\n",
        "\n",
        "* Camada convolucional 1: 1 canal de entrada, filtro 5x5, 6 canais de saída\n",
        "\n",
        "\n",
        "\n",
        "\n",
        "\n",
        ">Como a entrada tem um canal e o filtro é 5x5, o filtro é 5x5x1.\n",
        "\n",
        ">Como são 6 canais de saída, teremos 6 filtros 5x5x1 diferentes\n",
        "\n",
        "* Camada convolucional 2: 6 canais de entrada, filtro 5x5, 16 canais de saída\n",
        "\n",
        ">Como a entrada tem 6 canais e o filtro 5x5, o filtro é 5x5x6\n",
        "\n",
        ">Como são 16 canais de saída, teremos 16 filtros 5x5x6 diferentes\n",
        "\n",
        "* Camada densa 1: 256 entradas, 100 saídas\n",
        " \n",
        ">Como há 100 saídas, há 100 neurônios com 256 valores de peso para cada + 100 bias\n",
        "\n",
        "* Camada densa 2: 100 entradas, 10 saídas\n",
        "\n",
        ">Como há 10 saídas, há 10 neurônios com 100 valores de peso para cada + 10 bias\n",
        "---\n",
        "$(6*5*5*1)+(16*5*5*6)+(256*100+100)+(100*10+10)=26260$ parâmetros\n",
        "\n"
      ],
      "id": "hgySEy2v2Xht"
    },
    {
      "cell_type": "markdown",
      "metadata": {
        "id": "5b23ef3b"
      },
      "source": [
        "### Exercício 5 - Comparação de Resultados (2 pontos)\n",
        "\n",
        "**Exercício**: Compare as métricas de acurácia dos dois modelos desenvolvidos. Qual dos dois obteve melhores resultados?  Por quê? Qual característica das redes que justificam seu desempenho?\n",
        "\n",
        "Utilize o gráfico para auxiliar na análise. Insira uma célula de texto com a sua resposta"
      ],
      "id": "5b23ef3b"
    },
    {
      "cell_type": "code",
      "execution_count": null,
      "metadata": {
        "colab": {
          "background_save": true
        },
        "id": "82a9a2fe",
        "outputId": "dde347f4-0f4b-493a-b58a-742804b32ecb"
      },
      "outputs": [
        {
          "data": {
            "image/png": "[encoded data removed]",
            "text/plain": [
              "<Figure size 432x288 with 1 Axes>"
            ]
          },
          "metadata": {},
          "output_type": "display_data"
        }
      ],
      "source": [
        "### INÍCIO DO CÓDIGO ### (≈ 2 linhas)\n",
        "plt.plot(cnn_results['accuracy_list'], label='CNN')\n",
        "plt.plot(den_results['accuracy_list'], label='Dense')\n",
        "### FIM DO CÓDIGO ###\n",
        "\n",
        "plt.legend(frameon=False)\n",
        "plt.xlabel('Epoch')\n",
        "plt.ylabel('Accuracy')\n",
        "plt.title('Accuracy')\n",
        "plt.show()"
      ],
      "id": "82a9a2fe"
    },
    {
      "cell_type": "markdown",
      "metadata": {
        "id": "453a0b7f"
      },
      "source": [
        "A rede convolucional, como esperado, obteve um resultado melhor depois de treinada adequadamente, por possuir mais parâmetros e por possuir um melhor aproveitamento das relações locais dos pixels da imagem de entrada. Como há mais parâmetros na rede convolucional, ela demora mais a ser treinada adequadamente e, portanto, nas primeiras éepocas a rede densa apresenta um melhor resultado."
      ],
      "id": "453a0b7f"
    },
    {
      "cell_type": "markdown",
      "metadata": {
        "id": "5040a0be"
      },
      "source": [
        "### Indo além... - Comparação de Resultados (sem ponto)\n",
        "\n",
        "É possível plotar o gráfico de loss do treino e da validação para cada um dos modelos. Observe como os erros se comportam de maneira diferente para cada um dos subsets."
      ],
      "id": "5040a0be"
    },
    {
      "cell_type": "code",
      "execution_count": null,
      "metadata": {
        "colab": {
          "background_save": true
        },
        "id": "98b72e6a",
        "outputId": "1294a13d-dd14-45ef-bfba-3edf31587b86"
      },
      "outputs": [
        {
          "data": {
            "image/png": "[encoded data removed]",
            "text/plain": [
              "<Figure size 432x288 with 1 Axes>"
            ]
          },
          "metadata": {},
          "output_type": "display_data"
        }
      ],
      "source": [
        "plt.plot(cnn_results['train_losses'], label='Training loss')\n",
        "plt.plot(cnn_results['test_losses'], label='Validation loss')\n",
        "\n",
        "plt.legend(frameon=False)\n",
        "plt.xlabel(\"Epoch\")\n",
        "plt.ylabel(\"Loss\")\n",
        "plt.title(\"Loss\")\n",
        "plt.show()"
      ],
      "id": "98b72e6a"
    },
    {
      "cell_type": "code",
      "execution_count": null,
      "metadata": {
        "colab": {
          "background_save": true
        },
        "id": "71da0c86",
        "outputId": "b9e8c001-6a28-4d4a-b796-732095566473"
      },
      "outputs": [
        {
          "data": {
            "image/png": "[encoded data removed]",
            "text/plain": [
              "<Figure size 432x288 with 1 Axes>"
            ]
          },
          "metadata": {},
          "output_type": "display_data"
        }
      ],
      "source": [
        "plt.plot(den_results['train_losses'], label='Training loss')\n",
        "plt.plot(den_results['test_losses'], label='Validation loss')\n",
        "\n",
        "plt.legend(frameon=False)\n",
        "plt.xlabel(\"Epoch\")\n",
        "plt.ylabel(\"Loss\")\n",
        "plt.title(\"Loss\")\n",
        "plt.show()"
      ],
      "id": "71da0c86"
    },
    {
      "cell_type": "markdown",
      "metadata": {
        "id": "7YKbRnEI-rMY"
      },
      "source": [
        "O ponto mais relevante na comparação dos dois gráficos é a diferença entre a Loss do dataset de treino e validação. Além da Loss ser mais baixa, o modelo CNN apresenta uma maior proximidade entre os dois datasets, ou seja, a rede é melhor utilizada para classificar dados externos ao conjunto de treino. \n",
        "\n",
        "Isso é importante pois uma Loss muito pequena no conjunto de treino não implica em uma rede melhor, pois o modelo pode apresentar Overfitting, que é quando há um vício no dataset de treino, fazendo com que a rede não seja uma boa classificadora para dados de fora desse dataset."
      ],
      "id": "7YKbRnEI-rMY"
    },
    {
      "cell_type": "code",
      "execution_count": null,
      "metadata": {
        "colab": {
          "background_save": true
        },
        "id": "8176bf25"
      },
      "outputs": [],
      "source": [],
      "id": "8176bf25"
    }
  ],
  "metadata": {
    "colab": {
      "collapsed_sections": [],
      "provenance": []
    },
    "kernelspec": {
      "display_name": "Python 3 (ipykernel)",
      "language": "python",
      "name": "python3"
    },
    "language_info": {
      "codemirror_mode": {
        "name": "ipython",
        "version": 3
      },
      "file_extension": ".py",
      "mimetype": "text/x-python",
      "name": "python",
      "nbconvert_exporter": "python",
      "pygments_lexer": "ipython3",
      "version": "3.8.13"
    },
    "toc": {
      "base_numbering": 1,
      "nav_menu": {},
      "number_sections": false,
      "sideBar": false,
      "skip_h1_title": false,
      "title_cell": "Table of Contents",
      "title_sidebar": "Contents",
      "toc_cell": false,
      "toc_position": {},
      "toc_section_display": false,
      "toc_window_display": false
    },
    "widgets": {
      "application/vnd.jupyter.widget-state+json": {
        "00add4d7613e4a28a772c11677b0352d": {
          "model_module": "@jupyter-widgets/base",
          "model_module_version": "1.2.0",
          "model_name": "LayoutModel",
          "state": {
            "_model_module": "@jupyter-widgets/base",
            "_model_module_version": "1.2.0",
            "_model_name": "LayoutModel",
            "_view_count": null,
            "_view_module": "@jupyter-widgets/base",
            "_view_module_version": "1.2.0",
            "_view_name": "LayoutView",
            "align_content": null,
            "align_items": null,
            "align_self": null,
            "border": null,
            "bottom": null,
            "display": null,
            "flex": null,
            "flex_flow": null,
            "grid_area": null,
            "grid_auto_columns": null,
            "grid_auto_flow": null,
            "grid_auto_rows": null,
            "grid_column": null,
            "grid_gap": null,
            "grid_row": null,
            "grid_template_areas": null,
            "grid_template_columns": null,
            "grid_template_rows": null,
            "height": null,
            "justify_content": null,
            "justify_items": null,
            "left": null,
            "margin": null,
            "max_height": null,
            "max_width": null,
            "min_height": null,
            "min_width": null,
            "object_fit": null,
            "object_position": null,
            "order": null,
            "overflow": null,
            "overflow_x": null,
            "overflow_y": null,
            "padding": null,
            "right": null,
            "top": null,
            "visibility": null,
            "width": null
          }
        },
        "0b0b74514a1c43c0b691d7338bf0badb": {
          "model_module": "@jupyter-widgets/controls",
          "model_module_version": "1.5.0",
          "model_name": "FloatProgressModel",
          "state": {
            "_dom_classes": [],
            "_model_module": "@jupyter-widgets/controls",
            "_model_module_version": "1.5.0",
            "_model_name": "FloatProgressModel",
            "_view_count": null,
            "_view_module": "@jupyter-widgets/controls",
            "_view_module_version": "1.5.0",
            "_view_name": "ProgressView",
            "bar_style": "success",
            "description": "",
            "description_tooltip": null,
            "layout": "IPY_MODEL_c759c6610db14bb5a87b8d249d1b3771",
            "max": 4422102,
            "min": 0,
            "orientation": "horizontal",
            "style": "IPY_MODEL_89a9bdbc75344806978c4587fec2b9ab",
            "value": 4422102
          }
        },
        "137c90049a344791bdbac9164ca9fd51": {
          "model_module": "@jupyter-widgets/base",
          "model_module_version": "1.2.0",
          "model_name": "LayoutModel",
          "state": {
            "_model_module": "@jupyter-widgets/base",
            "_model_module_version": "1.2.0",
            "_model_name": "LayoutModel",
            "_view_count": null,
            "_view_module": "@jupyter-widgets/base",
            "_view_module_version": "1.2.0",
            "_view_name": "LayoutView",
            "align_content": null,
            "align_items": null,
            "align_self": null,
            "border": null,
            "bottom": null,
            "display": null,
            "flex": null,
            "flex_flow": null,
            "grid_area": null,
            "grid_auto_columns": null,
            "grid_auto_flow": null,
            "grid_auto_rows": null,
            "grid_column": null,
            "grid_gap": null,
            "grid_row": null,
            "grid_template_areas": null,
            "grid_template_columns": null,
            "grid_template_rows": null,
            "height": null,
            "justify_content": null,
            "justify_items": null,
            "left": null,
            "margin": null,
            "max_height": null,
            "max_width": null,
            "min_height": null,
            "min_width": null,
            "object_fit": null,
            "object_position": null,
            "order": null,
            "overflow": null,
            "overflow_x": null,
            "overflow_y": null,
            "padding": null,
            "right": null,
            "top": null,
            "visibility": null,
            "width": null
          }
        },
        "150833ad2ce941538bfbb6bd155470c3": {
          "model_module": "@jupyter-widgets/base",
          "model_module_version": "1.2.0",
          "model_name": "LayoutModel",
          "state": {
            "_model_module": "@jupyter-widgets/base",
            "_model_module_version": "1.2.0",
            "_model_name": "LayoutModel",
            "_view_count": null,
            "_view_module": "@jupyter-widgets/base",
            "_view_module_version": "1.2.0",
            "_view_name": "LayoutView",
            "align_content": null,
            "align_items": null,
            "align_self": null,
            "border": null,
            "bottom": null,
            "display": null,
            "flex": null,
            "flex_flow": null,
            "grid_area": null,
            "grid_auto_columns": null,
            "grid_auto_flow": null,
            "grid_auto_rows": null,
            "grid_column": null,
            "grid_gap": null,
            "grid_row": null,
            "grid_template_areas": null,
            "grid_template_columns": null,
            "grid_template_rows": null,
            "height": null,
            "justify_content": null,
            "justify_items": null,
            "left": null,
            "margin": null,
            "max_height": null,
            "max_width": null,
            "min_height": null,
            "min_width": null,
            "object_fit": null,
            "object_position": null,
            "order": null,
            "overflow": null,
            "overflow_x": null,
            "overflow_y": null,
            "padding": null,
            "right": null,
            "top": null,
            "visibility": null,
            "width": null
          }
        },
        "19b1e1a1df1d4b6f9e37114aeb63ed4b": {
          "model_module": "@jupyter-widgets/controls",
          "model_module_version": "1.5.0",
          "model_name": "DescriptionStyleModel",
          "state": {
            "_model_module": "@jupyter-widgets/controls",
            "_model_module_version": "1.5.0",
            "_model_name": "DescriptionStyleModel",
            "_view_count": null,
            "_view_module": "@jupyter-widgets/base",
            "_view_module_version": "1.2.0",
            "_view_name": "StyleView",
            "description_width": ""
          }
        },
        "1b04b4a77d19447eb878d053fe6400dd": {
          "model_module": "@jupyter-widgets/base",
          "model_module_version": "1.2.0",
          "model_name": "LayoutModel",
          "state": {
            "_model_module": "@jupyter-widgets/base",
            "_model_module_version": "1.2.0",
            "_model_name": "LayoutModel",
            "_view_count": null,
            "_view_module": "@jupyter-widgets/base",
            "_view_module_version": "1.2.0",
            "_view_name": "LayoutView",
            "align_content": null,
            "align_items": null,
            "align_self": null,
            "border": null,
            "bottom": null,
            "display": null,
            "flex": null,
            "flex_flow": null,
            "grid_area": null,
            "grid_auto_columns": null,
            "grid_auto_flow": null,
            "grid_auto_rows": null,
            "grid_column": null,
            "grid_gap": null,
            "grid_row": null,
            "grid_template_areas": null,
            "grid_template_columns": null,
            "grid_template_rows": null,
            "height": null,
            "justify_content": null,
            "justify_items": null,
            "left": null,
            "margin": null,
            "max_height": null,
            "max_width": null,
            "min_height": null,
            "min_width": null,
            "object_fit": null,
            "object_position": null,
            "order": null,
            "overflow": null,
            "overflow_x": null,
            "overflow_y": null,
            "padding": null,
            "right": null,
            "top": null,
            "visibility": null,
            "width": null
          }
        },
        "27a535e59484462b82d0bb7052bbe84a": {
          "model_module": "@jupyter-widgets/controls",
          "model_module_version": "1.5.0",
          "model_name": "HTMLModel",
          "state": {
            "_dom_classes": [],
            "_model_module": "@jupyter-widgets/controls",
            "_model_module_version": "1.5.0",
            "_model_name": "HTMLModel",
            "_view_count": null,
            "_view_module": "@jupyter-widgets/controls",
            "_view_module_version": "1.5.0",
            "_view_name": "HTMLView",
            "description": "",
            "description_tooltip": null,
            "layout": "IPY_MODEL_81bc23d1eeda472581c596bdd25b76e8",
            "placeholder": "​",
            "style": "IPY_MODEL_c89592d6988a4db4a7d1d7c4d5d9f82b",
            "value": " 4422102/4422102 [00:01&lt;00:00, 3517265.49it/s]"
          }
        },
        "283384271c4e4c2b90f3af63b311609c": {
          "model_module": "@jupyter-widgets/controls",
          "model_module_version": "1.5.0",
          "model_name": "DescriptionStyleModel",
          "state": {
            "_model_module": "@jupyter-widgets/controls",
            "_model_module_version": "1.5.0",
            "_model_name": "DescriptionStyleModel",
            "_view_count": null,
            "_view_module": "@jupyter-widgets/base",
            "_view_module_version": "1.2.0",
            "_view_name": "StyleView",
            "description_width": ""
          }
        },
        "2f8540126f6447fab3f2c5481e75c1fe": {
          "model_module": "@jupyter-widgets/controls",
          "model_module_version": "1.5.0",
          "model_name": "FloatProgressModel",
          "state": {
            "_dom_classes": [],
            "_model_module": "@jupyter-widgets/controls",
            "_model_module_version": "1.5.0",
            "_model_name": "FloatProgressModel",
            "_view_count": null,
            "_view_module": "@jupyter-widgets/controls",
            "_view_module_version": "1.5.0",
            "_view_name": "ProgressView",
            "bar_style": "success",
            "description": "",
            "description_tooltip": null,
            "layout": "IPY_MODEL_f9813d2a746f433cbbd6b91eae0c09f0",
            "max": 5148,
            "min": 0,
            "orientation": "horizontal",
            "style": "IPY_MODEL_b941779c9dc24d0f89a74fe6d056d367",
            "value": 5148
          }
        },
        "38a2267f50904c038d017881ae88aaeb": {
          "model_module": "@jupyter-widgets/base",
          "model_module_version": "1.2.0",
          "model_name": "LayoutModel",
          "state": {
            "_model_module": "@jupyter-widgets/base",
            "_model_module_version": "1.2.0",
            "_model_name": "LayoutModel",
            "_view_count": null,
            "_view_module": "@jupyter-widgets/base",
            "_view_module_version": "1.2.0",
            "_view_name": "LayoutView",
            "align_content": null,
            "align_items": null,
            "align_self": null,
            "border": null,
            "bottom": null,
            "display": null,
            "flex": null,
            "flex_flow": null,
            "grid_area": null,
            "grid_auto_columns": null,
            "grid_auto_flow": null,
            "grid_auto_rows": null,
            "grid_column": null,
            "grid_gap": null,
            "grid_row": null,
            "grid_template_areas": null,
            "grid_template_columns": null,
            "grid_template_rows": null,
            "height": null,
            "justify_content": null,
            "justify_items": null,
            "left": null,
            "margin": null,
            "max_height": null,
            "max_width": null,
            "min_height": null,
            "min_width": null,
            "object_fit": null,
            "object_position": null,
            "order": null,
            "overflow": null,
            "overflow_x": null,
            "overflow_y": null,
            "padding": null,
            "right": null,
            "top": null,
            "visibility": null,
            "width": null
          }
        },
        "3eb39b40133f46ddb27d4add0786fba4": {
          "model_module": "@jupyter-widgets/controls",
          "model_module_version": "1.5.0",
          "model_name": "ProgressStyleModel",
          "state": {
            "_model_module": "@jupyter-widgets/controls",
            "_model_module_version": "1.5.0",
            "_model_name": "ProgressStyleModel",
            "_view_count": null,
            "_view_module": "@jupyter-widgets/base",
            "_view_module_version": "1.2.0",
            "_view_name": "StyleView",
            "bar_color": null,
            "description_width": ""
          }
        },
        "403d93da9ee047ccb7ffecaf3c8df1d4": {
          "model_module": "@jupyter-widgets/base",
          "model_module_version": "1.2.0",
          "model_name": "LayoutModel",
          "state": {
            "_model_module": "@jupyter-widgets/base",
            "_model_module_version": "1.2.0",
            "_model_name": "LayoutModel",
            "_view_count": null,
            "_view_module": "@jupyter-widgets/base",
            "_view_module_version": "1.2.0",
            "_view_name": "LayoutView",
            "align_content": null,
            "align_items": null,
            "align_self": null,
            "border": null,
            "bottom": null,
            "display": null,
            "flex": null,
            "flex_flow": null,
            "grid_area": null,
            "grid_auto_columns": null,
            "grid_auto_flow": null,
            "grid_auto_rows": null,
            "grid_column": null,
            "grid_gap": null,
            "grid_row": null,
            "grid_template_areas": null,
            "grid_template_columns": null,
            "grid_template_rows": null,
            "height": null,
            "justify_content": null,
            "justify_items": null,
            "left": null,
            "margin": null,
            "max_height": null,
            "max_width": null,
            "min_height": null,
            "min_width": null,
            "object_fit": null,
            "object_position": null,
            "order": null,
            "overflow": null,
            "overflow_x": null,
            "overflow_y": null,
            "padding": null,
            "right": null,
            "top": null,
            "visibility": null,
            "width": null
          }
        },
        "547838b0eeb24493b74f375648d1db35": {
          "model_module": "@jupyter-widgets/controls",
          "model_module_version": "1.5.0",
          "model_name": "FloatProgressModel",
          "state": {
            "_dom_classes": [],
            "_model_module": "@jupyter-widgets/controls",
            "_model_module_version": "1.5.0",
            "_model_name": "FloatProgressModel",
            "_view_count": null,
            "_view_module": "@jupyter-widgets/controls",
            "_view_module_version": "1.5.0",
            "_view_name": "ProgressView",
            "bar_style": "success",
            "description": "",
            "description_tooltip": null,
            "layout": "IPY_MODEL_95bedabb2b1f40b79a4fe7a0c0ef687e",
            "max": 26421880,
            "min": 0,
            "orientation": "horizontal",
            "style": "IPY_MODEL_d7eb8a2a9ea14e5fb457a38fa7b2f4e6",
            "value": 26421880
          }
        },
        "586b803414bf444cb2263d395b179ba7": {
          "model_module": "@jupyter-widgets/controls",
          "model_module_version": "1.5.0",
          "model_name": "HTMLModel",
          "state": {
            "_dom_classes": [],
            "_model_module": "@jupyter-widgets/controls",
            "_model_module_version": "1.5.0",
            "_model_name": "HTMLModel",
            "_view_count": null,
            "_view_module": "@jupyter-widgets/controls",
            "_view_module_version": "1.5.0",
            "_view_name": "HTMLView",
            "description": "",
            "description_tooltip": null,
            "layout": "IPY_MODEL_403d93da9ee047ccb7ffecaf3c8df1d4",
            "placeholder": "​",
            "style": "IPY_MODEL_68241f3cf76d4e9e8f90f046d780d722",
            "value": " 5148/5148 [00:00&lt;00:00, 120783.79it/s]"
          }
        },
        "68241f3cf76d4e9e8f90f046d780d722": {
          "model_module": "@jupyter-widgets/controls",
          "model_module_version": "1.5.0",
          "model_name": "DescriptionStyleModel",
          "state": {
            "_model_module": "@jupyter-widgets/controls",
            "_model_module_version": "1.5.0",
            "_model_name": "DescriptionStyleModel",
            "_view_count": null,
            "_view_module": "@jupyter-widgets/base",
            "_view_module_version": "1.2.0",
            "_view_name": "StyleView",
            "description_width": ""
          }
        },
        "6e62c7c08b0c4424a3d60b751f2cc64a": {
          "model_module": "@jupyter-widgets/controls",
          "model_module_version": "1.5.0",
          "model_name": "HBoxModel",
          "state": {
            "_dom_classes": [],
            "_model_module": "@jupyter-widgets/controls",
            "_model_module_version": "1.5.0",
            "_model_name": "HBoxModel",
            "_view_count": null,
            "_view_module": "@jupyter-widgets/controls",
            "_view_module_version": "1.5.0",
            "_view_name": "HBoxView",
            "box_style": "",
            "children": [
              "IPY_MODEL_b305288afc9046acad742ec0a9c9228c",
              "IPY_MODEL_0b0b74514a1c43c0b691d7338bf0badb",
              "IPY_MODEL_27a535e59484462b82d0bb7052bbe84a"
            ],
            "layout": "IPY_MODEL_b171bdb9bc3245f3837a20d368bd1b0d"
          }
        },
        "7f5927c40301483daf05dd6320713bfd": {
          "model_module": "@jupyter-widgets/base",
          "model_module_version": "1.2.0",
          "model_name": "LayoutModel",
          "state": {
            "_model_module": "@jupyter-widgets/base",
            "_model_module_version": "1.2.0",
            "_model_name": "LayoutModel",
            "_view_count": null,
            "_view_module": "@jupyter-widgets/base",
            "_view_module_version": "1.2.0",
            "_view_name": "LayoutView",
            "align_content": null,
            "align_items": null,
            "align_self": null,
            "border": null,
            "bottom": null,
            "display": null,
            "flex": null,
            "flex_flow": null,
            "grid_area": null,
            "grid_auto_columns": null,
            "grid_auto_flow": null,
            "grid_auto_rows": null,
            "grid_column": null,
            "grid_gap": null,
            "grid_row": null,
            "grid_template_areas": null,
            "grid_template_columns": null,
            "grid_template_rows": null,
            "height": null,
            "justify_content": null,
            "justify_items": null,
            "left": null,
            "margin": null,
            "max_height": null,
            "max_width": null,
            "min_height": null,
            "min_width": null,
            "object_fit": null,
            "object_position": null,
            "order": null,
            "overflow": null,
            "overflow_x": null,
            "overflow_y": null,
            "padding": null,
            "right": null,
            "top": null,
            "visibility": null,
            "width": null
          }
        },
        "81bc23d1eeda472581c596bdd25b76e8": {
          "model_module": "@jupyter-widgets/base",
          "model_module_version": "1.2.0",
          "model_name": "LayoutModel",
          "state": {
            "_model_module": "@jupyter-widgets/base",
            "_model_module_version": "1.2.0",
            "_model_name": "LayoutModel",
            "_view_count": null,
            "_view_module": "@jupyter-widgets/base",
            "_view_module_version": "1.2.0",
            "_view_name": "LayoutView",
            "align_content": null,
            "align_items": null,
            "align_self": null,
            "border": null,
            "bottom": null,
            "display": null,
            "flex": null,
            "flex_flow": null,
            "grid_area": null,
            "grid_auto_columns": null,
            "grid_auto_flow": null,
            "grid_auto_rows": null,
            "grid_column": null,
            "grid_gap": null,
            "grid_row": null,
            "grid_template_areas": null,
            "grid_template_columns": null,
            "grid_template_rows": null,
            "height": null,
            "justify_content": null,
            "justify_items": null,
            "left": null,
            "margin": null,
            "max_height": null,
            "max_width": null,
            "min_height": null,
            "min_width": null,
            "object_fit": null,
            "object_position": null,
            "order": null,
            "overflow": null,
            "overflow_x": null,
            "overflow_y": null,
            "padding": null,
            "right": null,
            "top": null,
            "visibility": null,
            "width": null
          }
        },
        "869c19cebd78434d8485554db3b2357f": {
          "model_module": "@jupyter-widgets/base",
          "model_module_version": "1.2.0",
          "model_name": "LayoutModel",
          "state": {
            "_model_module": "@jupyter-widgets/base",
            "_model_module_version": "1.2.0",
            "_model_name": "LayoutModel",
            "_view_count": null,
            "_view_module": "@jupyter-widgets/base",
            "_view_module_version": "1.2.0",
            "_view_name": "LayoutView",
            "align_content": null,
            "align_items": null,
            "align_self": null,
            "border": null,
            "bottom": null,
            "display": null,
            "flex": null,
            "flex_flow": null,
            "grid_area": null,
            "grid_auto_columns": null,
            "grid_auto_flow": null,
            "grid_auto_rows": null,
            "grid_column": null,
            "grid_gap": null,
            "grid_row": null,
            "grid_template_areas": null,
            "grid_template_columns": null,
            "grid_template_rows": null,
            "height": null,
            "justify_content": null,
            "justify_items": null,
            "left": null,
            "margin": null,
            "max_height": null,
            "max_width": null,
            "min_height": null,
            "min_width": null,
            "object_fit": null,
            "object_position": null,
            "order": null,
            "overflow": null,
            "overflow_x": null,
            "overflow_y": null,
            "padding": null,
            "right": null,
            "top": null,
            "visibility": null,
            "width": null
          }
        },
        "89a9bdbc75344806978c4587fec2b9ab": {
          "model_module": "@jupyter-widgets/controls",
          "model_module_version": "1.5.0",
          "model_name": "ProgressStyleModel",
          "state": {
            "_model_module": "@jupyter-widgets/controls",
            "_model_module_version": "1.5.0",
            "_model_name": "ProgressStyleModel",
            "_view_count": null,
            "_view_module": "@jupyter-widgets/base",
            "_view_module_version": "1.2.0",
            "_view_name": "StyleView",
            "bar_color": null,
            "description_width": ""
          }
        },
        "958c799482554d578ac3a0a233b6ae3d": {
          "model_module": "@jupyter-widgets/base",
          "model_module_version": "1.2.0",
          "model_name": "LayoutModel",
          "state": {
            "_model_module": "@jupyter-widgets/base",
            "_model_module_version": "1.2.0",
            "_model_name": "LayoutModel",
            "_view_count": null,
            "_view_module": "@jupyter-widgets/base",
            "_view_module_version": "1.2.0",
            "_view_name": "LayoutView",
            "align_content": null,
            "align_items": null,
            "align_self": null,
            "border": null,
            "bottom": null,
            "display": null,
            "flex": null,
            "flex_flow": null,
            "grid_area": null,
            "grid_auto_columns": null,
            "grid_auto_flow": null,
            "grid_auto_rows": null,
            "grid_column": null,
            "grid_gap": null,
            "grid_row": null,
            "grid_template_areas": null,
            "grid_template_columns": null,
            "grid_template_rows": null,
            "height": null,
            "justify_content": null,
            "justify_items": null,
            "left": null,
            "margin": null,
            "max_height": null,
            "max_width": null,
            "min_height": null,
            "min_width": null,
            "object_fit": null,
            "object_position": null,
            "order": null,
            "overflow": null,
            "overflow_x": null,
            "overflow_y": null,
            "padding": null,
            "right": null,
            "top": null,
            "visibility": null,
            "width": null
          }
        },
        "95bedabb2b1f40b79a4fe7a0c0ef687e": {
          "model_module": "@jupyter-widgets/base",
          "model_module_version": "1.2.0",
          "model_name": "LayoutModel",
          "state": {
            "_model_module": "@jupyter-widgets/base",
            "_model_module_version": "1.2.0",
            "_model_name": "LayoutModel",
            "_view_count": null,
            "_view_module": "@jupyter-widgets/base",
            "_view_module_version": "1.2.0",
            "_view_name": "LayoutView",
            "align_content": null,
            "align_items": null,
            "align_self": null,
            "border": null,
            "bottom": null,
            "display": null,
            "flex": null,
            "flex_flow": null,
            "grid_area": null,
            "grid_auto_columns": null,
            "grid_auto_flow": null,
            "grid_auto_rows": null,
            "grid_column": null,
            "grid_gap": null,
            "grid_row": null,
            "grid_template_areas": null,
            "grid_template_columns": null,
            "grid_template_rows": null,
            "height": null,
            "justify_content": null,
            "justify_items": null,
            "left": null,
            "margin": null,
            "max_height": null,
            "max_width": null,
            "min_height": null,
            "min_width": null,
            "object_fit": null,
            "object_position": null,
            "order": null,
            "overflow": null,
            "overflow_x": null,
            "overflow_y": null,
            "padding": null,
            "right": null,
            "top": null,
            "visibility": null,
            "width": null
          }
        },
        "95f84694c4b3483b849a05af67b6c1c8": {
          "model_module": "@jupyter-widgets/controls",
          "model_module_version": "1.5.0",
          "model_name": "HTMLModel",
          "state": {
            "_dom_classes": [],
            "_model_module": "@jupyter-widgets/controls",
            "_model_module_version": "1.5.0",
            "_model_name": "HTMLModel",
            "_view_count": null,
            "_view_module": "@jupyter-widgets/controls",
            "_view_module_version": "1.5.0",
            "_view_name": "HTMLView",
            "description": "",
            "description_tooltip": null,
            "layout": "IPY_MODEL_00add4d7613e4a28a772c11677b0352d",
            "placeholder": "​",
            "style": "IPY_MODEL_a35d560957a449c6b2f8d24e5d2f9e82",
            "value": " 26421880/26421880 [00:14&lt;00:00, 5980525.55it/s]"
          }
        },
        "975d52dbdf8a4bb79188b9b79ccd25dc": {
          "model_module": "@jupyter-widgets/controls",
          "model_module_version": "1.5.0",
          "model_name": "HBoxModel",
          "state": {
            "_dom_classes": [],
            "_model_module": "@jupyter-widgets/controls",
            "_model_module_version": "1.5.0",
            "_model_name": "HBoxModel",
            "_view_count": null,
            "_view_module": "@jupyter-widgets/controls",
            "_view_module_version": "1.5.0",
            "_view_name": "HBoxView",
            "box_style": "",
            "children": [
              "IPY_MODEL_a0e325fc353b499b9379c590496215c5",
              "IPY_MODEL_547838b0eeb24493b74f375648d1db35",
              "IPY_MODEL_95f84694c4b3483b849a05af67b6c1c8"
            ],
            "layout": "IPY_MODEL_958c799482554d578ac3a0a233b6ae3d"
          }
        },
        "9c4cd0f5b5684839a0bcedbf7a404189": {
          "model_module": "@jupyter-widgets/controls",
          "model_module_version": "1.5.0",
          "model_name": "HBoxModel",
          "state": {
            "_dom_classes": [],
            "_model_module": "@jupyter-widgets/controls",
            "_model_module_version": "1.5.0",
            "_model_name": "HBoxModel",
            "_view_count": null,
            "_view_module": "@jupyter-widgets/controls",
            "_view_module_version": "1.5.0",
            "_view_name": "HBoxView",
            "box_style": "",
            "children": [
              "IPY_MODEL_aedae65fa05e4d979fe7d4bf4638a5b7",
              "IPY_MODEL_b663049ae75444ebb2e059d3a83045df",
              "IPY_MODEL_b6e0443e87ee4df0b9fa091722dea994"
            ],
            "layout": "IPY_MODEL_38a2267f50904c038d017881ae88aaeb"
          }
        },
        "a0e325fc353b499b9379c590496215c5": {
          "model_module": "@jupyter-widgets/controls",
          "model_module_version": "1.5.0",
          "model_name": "HTMLModel",
          "state": {
            "_dom_classes": [],
            "_model_module": "@jupyter-widgets/controls",
            "_model_module_version": "1.5.0",
            "_model_name": "HTMLModel",
            "_view_count": null,
            "_view_module": "@jupyter-widgets/controls",
            "_view_module_version": "1.5.0",
            "_view_name": "HTMLView",
            "description": "",
            "description_tooltip": null,
            "layout": "IPY_MODEL_137c90049a344791bdbac9164ca9fd51",
            "placeholder": "​",
            "style": "IPY_MODEL_cc1a6b0b218c4f03984d30daa44ba58a",
            "value": "100%"
          }
        },
        "a35d560957a449c6b2f8d24e5d2f9e82": {
          "model_module": "@jupyter-widgets/controls",
          "model_module_version": "1.5.0",
          "model_name": "DescriptionStyleModel",
          "state": {
            "_model_module": "@jupyter-widgets/controls",
            "_model_module_version": "1.5.0",
            "_model_name": "DescriptionStyleModel",
            "_view_count": null,
            "_view_module": "@jupyter-widgets/base",
            "_view_module_version": "1.2.0",
            "_view_name": "StyleView",
            "description_width": ""
          }
        },
        "aedae65fa05e4d979fe7d4bf4638a5b7": {
          "model_module": "@jupyter-widgets/controls",
          "model_module_version": "1.5.0",
          "model_name": "HTMLModel",
          "state": {
            "_dom_classes": [],
            "_model_module": "@jupyter-widgets/controls",
            "_model_module_version": "1.5.0",
            "_model_name": "HTMLModel",
            "_view_count": null,
            "_view_module": "@jupyter-widgets/controls",
            "_view_module_version": "1.5.0",
            "_view_name": "HTMLView",
            "description": "",
            "description_tooltip": null,
            "layout": "IPY_MODEL_150833ad2ce941538bfbb6bd155470c3",
            "placeholder": "​",
            "style": "IPY_MODEL_283384271c4e4c2b90f3af63b311609c",
            "value": "100%"
          }
        },
        "b171bdb9bc3245f3837a20d368bd1b0d": {
          "model_module": "@jupyter-widgets/base",
          "model_module_version": "1.2.0",
          "model_name": "LayoutModel",
          "state": {
            "_model_module": "@jupyter-widgets/base",
            "_model_module_version": "1.2.0",
            "_model_name": "LayoutModel",
            "_view_count": null,
            "_view_module": "@jupyter-widgets/base",
            "_view_module_version": "1.2.0",
            "_view_name": "LayoutView",
            "align_content": null,
            "align_items": null,
            "align_self": null,
            "border": null,
            "bottom": null,
            "display": null,
            "flex": null,
            "flex_flow": null,
            "grid_area": null,
            "grid_auto_columns": null,
            "grid_auto_flow": null,
            "grid_auto_rows": null,
            "grid_column": null,
            "grid_gap": null,
            "grid_row": null,
            "grid_template_areas": null,
            "grid_template_columns": null,
            "grid_template_rows": null,
            "height": null,
            "justify_content": null,
            "justify_items": null,
            "left": null,
            "margin": null,
            "max_height": null,
            "max_width": null,
            "min_height": null,
            "min_width": null,
            "object_fit": null,
            "object_position": null,
            "order": null,
            "overflow": null,
            "overflow_x": null,
            "overflow_y": null,
            "padding": null,
            "right": null,
            "top": null,
            "visibility": null,
            "width": null
          }
        },
        "b305288afc9046acad742ec0a9c9228c": {
          "model_module": "@jupyter-widgets/controls",
          "model_module_version": "1.5.0",
          "model_name": "HTMLModel",
          "state": {
            "_dom_classes": [],
            "_model_module": "@jupyter-widgets/controls",
            "_model_module_version": "1.5.0",
            "_model_name": "HTMLModel",
            "_view_count": null,
            "_view_module": "@jupyter-widgets/controls",
            "_view_module_version": "1.5.0",
            "_view_name": "HTMLView",
            "description": "",
            "description_tooltip": null,
            "layout": "IPY_MODEL_ef6eac6a1f7042fe8f633dc55cb7c353",
            "placeholder": "​",
            "style": "IPY_MODEL_fac346b0e4d34412bad4413630d5292e",
            "value": "100%"
          }
        },
        "b663049ae75444ebb2e059d3a83045df": {
          "model_module": "@jupyter-widgets/controls",
          "model_module_version": "1.5.0",
          "model_name": "FloatProgressModel",
          "state": {
            "_dom_classes": [],
            "_model_module": "@jupyter-widgets/controls",
            "_model_module_version": "1.5.0",
            "_model_name": "FloatProgressModel",
            "_view_count": null,
            "_view_module": "@jupyter-widgets/controls",
            "_view_module_version": "1.5.0",
            "_view_name": "ProgressView",
            "bar_style": "success",
            "description": "",
            "description_tooltip": null,
            "layout": "IPY_MODEL_7f5927c40301483daf05dd6320713bfd",
            "max": 29515,
            "min": 0,
            "orientation": "horizontal",
            "style": "IPY_MODEL_3eb39b40133f46ddb27d4add0786fba4",
            "value": 29515
          }
        },
        "b6e0443e87ee4df0b9fa091722dea994": {
          "model_module": "@jupyter-widgets/controls",
          "model_module_version": "1.5.0",
          "model_name": "HTMLModel",
          "state": {
            "_dom_classes": [],
            "_model_module": "@jupyter-widgets/controls",
            "_model_module_version": "1.5.0",
            "_model_name": "HTMLModel",
            "_view_count": null,
            "_view_module": "@jupyter-widgets/controls",
            "_view_module_version": "1.5.0",
            "_view_name": "HTMLView",
            "description": "",
            "description_tooltip": null,
            "layout": "IPY_MODEL_bafb63bab4874e3998bdf8d1172fc55b",
            "placeholder": "​",
            "style": "IPY_MODEL_d8b6a5a53e884ea49e8407995b83c842",
            "value": " 29515/29515 [00:00&lt;00:00, 120100.59it/s]"
          }
        },
        "b941779c9dc24d0f89a74fe6d056d367": {
          "model_module": "@jupyter-widgets/controls",
          "model_module_version": "1.5.0",
          "model_name": "ProgressStyleModel",
          "state": {
            "_model_module": "@jupyter-widgets/controls",
            "_model_module_version": "1.5.0",
            "_model_name": "ProgressStyleModel",
            "_view_count": null,
            "_view_module": "@jupyter-widgets/base",
            "_view_module_version": "1.2.0",
            "_view_name": "StyleView",
            "bar_color": null,
            "description_width": ""
          }
        },
        "bafb63bab4874e3998bdf8d1172fc55b": {
          "model_module": "@jupyter-widgets/base",
          "model_module_version": "1.2.0",
          "model_name": "LayoutModel",
          "state": {
            "_model_module": "@jupyter-widgets/base",
            "_model_module_version": "1.2.0",
            "_model_name": "LayoutModel",
            "_view_count": null,
            "_view_module": "@jupyter-widgets/base",
            "_view_module_version": "1.2.0",
            "_view_name": "LayoutView",
            "align_content": null,
            "align_items": null,
            "align_self": null,
            "border": null,
            "bottom": null,
            "display": null,
            "flex": null,
            "flex_flow": null,
            "grid_area": null,
            "grid_auto_columns": null,
            "grid_auto_flow": null,
            "grid_auto_rows": null,
            "grid_column": null,
            "grid_gap": null,
            "grid_row": null,
            "grid_template_areas": null,
            "grid_template_columns": null,
            "grid_template_rows": null,
            "height": null,
            "justify_content": null,
            "justify_items": null,
            "left": null,
            "margin": null,
            "max_height": null,
            "max_width": null,
            "min_height": null,
            "min_width": null,
            "object_fit": null,
            "object_position": null,
            "order": null,
            "overflow": null,
            "overflow_x": null,
            "overflow_y": null,
            "padding": null,
            "right": null,
            "top": null,
            "visibility": null,
            "width": null
          }
        },
        "c759c6610db14bb5a87b8d249d1b3771": {
          "model_module": "@jupyter-widgets/base",
          "model_module_version": "1.2.0",
          "model_name": "LayoutModel",
          "state": {
            "_model_module": "@jupyter-widgets/base",
            "_model_module_version": "1.2.0",
            "_model_name": "LayoutModel",
            "_view_count": null,
            "_view_module": "@jupyter-widgets/base",
            "_view_module_version": "1.2.0",
            "_view_name": "LayoutView",
            "align_content": null,
            "align_items": null,
            "align_self": null,
            "border": null,
            "bottom": null,
            "display": null,
            "flex": null,
            "flex_flow": null,
            "grid_area": null,
            "grid_auto_columns": null,
            "grid_auto_flow": null,
            "grid_auto_rows": null,
            "grid_column": null,
            "grid_gap": null,
            "grid_row": null,
            "grid_template_areas": null,
            "grid_template_columns": null,
            "grid_template_rows": null,
            "height": null,
            "justify_content": null,
            "justify_items": null,
            "left": null,
            "margin": null,
            "max_height": null,
            "max_width": null,
            "min_height": null,
            "min_width": null,
            "object_fit": null,
            "object_position": null,
            "order": null,
            "overflow": null,
            "overflow_x": null,
            "overflow_y": null,
            "padding": null,
            "right": null,
            "top": null,
            "visibility": null,
            "width": null
          }
        },
        "c89592d6988a4db4a7d1d7c4d5d9f82b": {
          "model_module": "@jupyter-widgets/controls",
          "model_module_version": "1.5.0",
          "model_name": "DescriptionStyleModel",
          "state": {
            "_model_module": "@jupyter-widgets/controls",
            "_model_module_version": "1.5.0",
            "_model_name": "DescriptionStyleModel",
            "_view_count": null,
            "_view_module": "@jupyter-widgets/base",
            "_view_module_version": "1.2.0",
            "_view_name": "StyleView",
            "description_width": ""
          }
        },
        "cc1a6b0b218c4f03984d30daa44ba58a": {
          "model_module": "@jupyter-widgets/controls",
          "model_module_version": "1.5.0",
          "model_name": "DescriptionStyleModel",
          "state": {
            "_model_module": "@jupyter-widgets/controls",
            "_model_module_version": "1.5.0",
            "_model_name": "DescriptionStyleModel",
            "_view_count": null,
            "_view_module": "@jupyter-widgets/base",
            "_view_module_version": "1.2.0",
            "_view_name": "StyleView",
            "description_width": ""
          }
        },
        "d3a077ecc12040559981d12af59690e7": {
          "model_module": "@jupyter-widgets/controls",
          "model_module_version": "1.5.0",
          "model_name": "HBoxModel",
          "state": {
            "_dom_classes": [],
            "_model_module": "@jupyter-widgets/controls",
            "_model_module_version": "1.5.0",
            "_model_name": "HBoxModel",
            "_view_count": null,
            "_view_module": "@jupyter-widgets/controls",
            "_view_module_version": "1.5.0",
            "_view_name": "HBoxView",
            "box_style": "",
            "children": [
              "IPY_MODEL_e60471c08c174d289b5ce16c2794a7e1",
              "IPY_MODEL_2f8540126f6447fab3f2c5481e75c1fe",
              "IPY_MODEL_586b803414bf444cb2263d395b179ba7"
            ],
            "layout": "IPY_MODEL_1b04b4a77d19447eb878d053fe6400dd"
          }
        },
        "d7eb8a2a9ea14e5fb457a38fa7b2f4e6": {
          "model_module": "@jupyter-widgets/controls",
          "model_module_version": "1.5.0",
          "model_name": "ProgressStyleModel",
          "state": {
            "_model_module": "@jupyter-widgets/controls",
            "_model_module_version": "1.5.0",
            "_model_name": "ProgressStyleModel",
            "_view_count": null,
            "_view_module": "@jupyter-widgets/base",
            "_view_module_version": "1.2.0",
            "_view_name": "StyleView",
            "bar_color": null,
            "description_width": ""
          }
        },
        "d8b6a5a53e884ea49e8407995b83c842": {
          "model_module": "@jupyter-widgets/controls",
          "model_module_version": "1.5.0",
          "model_name": "DescriptionStyleModel",
          "state": {
            "_model_module": "@jupyter-widgets/controls",
            "_model_module_version": "1.5.0",
            "_model_name": "DescriptionStyleModel",
            "_view_count": null,
            "_view_module": "@jupyter-widgets/base",
            "_view_module_version": "1.2.0",
            "_view_name": "StyleView",
            "description_width": ""
          }
        },
        "e60471c08c174d289b5ce16c2794a7e1": {
          "model_module": "@jupyter-widgets/controls",
          "model_module_version": "1.5.0",
          "model_name": "HTMLModel",
          "state": {
            "_dom_classes": [],
            "_model_module": "@jupyter-widgets/controls",
            "_model_module_version": "1.5.0",
            "_model_name": "HTMLModel",
            "_view_count": null,
            "_view_module": "@jupyter-widgets/controls",
            "_view_module_version": "1.5.0",
            "_view_name": "HTMLView",
            "description": "",
            "description_tooltip": null,
            "layout": "IPY_MODEL_869c19cebd78434d8485554db3b2357f",
            "placeholder": "​",
            "style": "IPY_MODEL_19b1e1a1df1d4b6f9e37114aeb63ed4b",
            "value": "100%"
          }
        },
        "ef6eac6a1f7042fe8f633dc55cb7c353": {
          "model_module": "@jupyter-widgets/base",
          "model_module_version": "1.2.0",
          "model_name": "LayoutModel",
          "state": {
            "_model_module": "@jupyter-widgets/base",
            "_model_module_version": "1.2.0",
            "_model_name": "LayoutModel",
            "_view_count": null,
            "_view_module": "@jupyter-widgets/base",
            "_view_module_version": "1.2.0",
            "_view_name": "LayoutView",
            "align_content": null,
            "align_items": null,
            "align_self": null,
            "border": null,
            "bottom": null,
            "display": null,
            "flex": null,
            "flex_flow": null,
            "grid_area": null,
            "grid_auto_columns": null,
            "grid_auto_flow": null,
            "grid_auto_rows": null,
            "grid_column": null,
            "grid_gap": null,
            "grid_row": null,
            "grid_template_areas": null,
            "grid_template_columns": null,
            "grid_template_rows": null,
            "height": null,
            "justify_content": null,
            "justify_items": null,
            "left": null,
            "margin": null,
            "max_height": null,
            "max_width": null,
            "min_height": null,
            "min_width": null,
            "object_fit": null,
            "object_position": null,
            "order": null,
            "overflow": null,
            "overflow_x": null,
            "overflow_y": null,
            "padding": null,
            "right": null,
            "top": null,
            "visibility": null,
            "width": null
          }
        },
        "f9813d2a746f433cbbd6b91eae0c09f0": {
          "model_module": "@jupyter-widgets/base",
          "model_module_version": "1.2.0",
          "model_name": "LayoutModel",
          "state": {
            "_model_module": "@jupyter-widgets/base",
            "_model_module_version": "1.2.0",
            "_model_name": "LayoutModel",
            "_view_count": null,
            "_view_module": "@jupyter-widgets/base",
            "_view_module_version": "1.2.0",
            "_view_name": "LayoutView",
            "align_content": null,
            "align_items": null,
            "align_self": null,
            "border": null,
            "bottom": null,
            "display": null,
            "flex": null,
            "flex_flow": null,
            "grid_area": null,
            "grid_auto_columns": null,
            "grid_auto_flow": null,
            "grid_auto_rows": null,
            "grid_column": null,
            "grid_gap": null,
            "grid_row": null,
            "grid_template_areas": null,
            "grid_template_columns": null,
            "grid_template_rows": null,
            "height": null,
            "justify_content": null,
            "justify_items": null,
            "left": null,
            "margin": null,
            "max_height": null,
            "max_width": null,
            "min_height": null,
            "min_width": null,
            "object_fit": null,
            "object_position": null,
            "order": null,
            "overflow": null,
            "overflow_x": null,
            "overflow_y": null,
            "padding": null,
            "right": null,
            "top": null,
            "visibility": null,
            "width": null
          }
        },
        "fac346b0e4d34412bad4413630d5292e": {
          "model_module": "@jupyter-widgets/controls",
          "model_module_version": "1.5.0",
          "model_name": "DescriptionStyleModel",
          "state": {
            "_model_module": "@jupyter-widgets/controls",
            "_model_module_version": "1.5.0",
            "_model_name": "DescriptionStyleModel",
            "_view_count": null,
            "_view_module": "@jupyter-widgets/base",
            "_view_module_version": "1.2.0",
            "_view_name": "StyleView",
            "description_width": ""
          }
        }
      }
    }
  },
  "nbformat": 4,
  "nbformat_minor": 5
}